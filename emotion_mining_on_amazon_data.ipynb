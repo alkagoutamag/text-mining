{
  "nbformat": 4,
  "nbformat_minor": 0,
  "metadata": {
    "colab": {
      "name": "emotion mining on amazon data.ipynb",
      "provenance": []
    },
    "kernelspec": {
      "name": "python3",
      "display_name": "Python 3"
    },
    "language_info": {
      "name": "python"
    }
  },
  "cells": [
    {
      "cell_type": "markdown",
      "metadata": {
        "id": "HW4j2toh06LN"
      },
      "source": [
        "## emotion mining using extracted data from amazon"
      ]
    },
    {
      "cell_type": "code",
      "metadata": {
        "colab": {
          "base_uri": "https://localhost:8080/"
        },
        "id": "o4lm6gZM0owO",
        "outputId": "e93952d7-e411-41e6-d232-3e21d8454946"
      },
      "source": [
        "from google.colab import drive\n",
        "drive.mount('/content/drive')"
      ],
      "execution_count": 1,
      "outputs": [
        {
          "output_type": "stream",
          "name": "stdout",
          "text": [
            "Mounted at /content/drive\n"
          ]
        }
      ]
    },
    {
      "cell_type": "code",
      "metadata": {
        "colab": {
          "base_uri": "https://localhost:8080/"
        },
        "id": "vXt2_iaQ1TcA",
        "outputId": "85ea191c-3b9c-4494-97d1-c9442849067f"
      },
      "source": [
        "import pandas as pd\n",
        "import numpy as np\n",
        "import string\n",
        "import spacy\n",
        "from wordcloud import WordCloud\n",
        "import nltk\n",
        "nltk.download('punkt')"
      ],
      "execution_count": 13,
      "outputs": [
        {
          "output_type": "stream",
          "name": "stdout",
          "text": [
            "[nltk_data] Downloading package punkt to /root/nltk_data...\n",
            "[nltk_data]   Unzipping tokenizers/punkt.zip.\n"
          ]
        },
        {
          "output_type": "execute_result",
          "data": {
            "text/plain": [
              "True"
            ]
          },
          "metadata": {},
          "execution_count": 13
        }
      ]
    },
    {
      "cell_type": "code",
      "metadata": {
        "id": "Ejamzcsz0q-v"
      },
      "source": [
        "reviews=pd.read_csv('/content/drive/MyDrive/google colab/reviews.csv')"
      ],
      "execution_count": 5,
      "outputs": []
    },
    {
      "cell_type": "code",
      "metadata": {
        "colab": {
          "base_uri": "https://localhost:8080/",
          "height": 362
        },
        "id": "NF6cuwGN1RJH",
        "outputId": "3044b139-99da-43aa-bcc3-c5277ad5fc47"
      },
      "source": [
        "reviews"
      ],
      "execution_count": 6,
      "outputs": [
        {
          "output_type": "execute_result",
          "data": {
            "text/html": [
              "<div>\n",
              "<style scoped>\n",
              "    .dataframe tbody tr th:only-of-type {\n",
              "        vertical-align: middle;\n",
              "    }\n",
              "\n",
              "    .dataframe tbody tr th {\n",
              "        vertical-align: top;\n",
              "    }\n",
              "\n",
              "    .dataframe thead th {\n",
              "        text-align: right;\n",
              "    }\n",
              "</style>\n",
              "<table border=\"1\" class=\"dataframe\">\n",
              "  <thead>\n",
              "    <tr style=\"text-align: right;\">\n",
              "      <th></th>\n",
              "      <th>Unnamed: 0</th>\n",
              "      <th>custmer_name</th>\n",
              "      <th>Review_Title</th>\n",
              "      <th>Rating</th>\n",
              "      <th>Reviews</th>\n",
              "    </tr>\n",
              "  </thead>\n",
              "  <tbody>\n",
              "    <tr>\n",
              "      <th>0</th>\n",
              "      <td>0</td>\n",
              "      <td>umesh khamparia</td>\n",
              "      <td>Original genuine product</td>\n",
              "      <td>1.0 out of 5 stars</td>\n",
              "      <td>I got all the accessories and original produ...</td>\n",
              "    </tr>\n",
              "    <tr>\n",
              "      <th>1</th>\n",
              "      <td>1</td>\n",
              "      <td>Prakash</td>\n",
              "      <td>My first iphone</td>\n",
              "      <td>5.0 out of 5 stars</td>\n",
              "      <td>Good phone even in 2018I was andriod fan boy...</td>\n",
              "    </tr>\n",
              "    <tr>\n",
              "      <th>2</th>\n",
              "      <td>2</td>\n",
              "      <td>Upashna Rai</td>\n",
              "      <td>Beautiful beast.</td>\n",
              "      <td>5.0 out of 5 stars</td>\n",
              "      <td>Got my hands on my first iPhone and the expe...</td>\n",
              "    </tr>\n",
              "    <tr>\n",
              "      <th>3</th>\n",
              "      <td>3</td>\n",
              "      <td>Amazon Customer</td>\n",
              "      <td>Five Stars</td>\n",
              "      <td>5.0 out of 5 stars</td>\n",
              "      <td>Display scratch so is there any Chanses to r...</td>\n",
              "    </tr>\n",
              "    <tr>\n",
              "      <th>4</th>\n",
              "      <td>4</td>\n",
              "      <td>Rajat h.</td>\n",
              "      <td>Good brand new iphone 7plus</td>\n",
              "      <td>5.0 out of 5 stars</td>\n",
              "      <td>Good cameraGood battery lifeTouch sensibilit...</td>\n",
              "    </tr>\n",
              "    <tr>\n",
              "      <th>5</th>\n",
              "      <td>5</td>\n",
              "      <td>Lusi</td>\n",
              "      <td>Happy to have you iphone😁😁</td>\n",
              "      <td>4.0 out of 5 stars</td>\n",
              "      <td>Using about 3weeks my opinion fot this iphon...</td>\n",
              "    </tr>\n",
              "    <tr>\n",
              "      <th>6</th>\n",
              "      <td>6</td>\n",
              "      <td>Mriganka Roy Choudhury</td>\n",
              "      <td>Who should purchase an iPhone 7 plus in 2020?</td>\n",
              "      <td>5.0 out of 5 stars</td>\n",
              "      <td>I know in this price bracket there are sever...</td>\n",
              "    </tr>\n",
              "    <tr>\n",
              "      <th>7</th>\n",
              "      <td>7</td>\n",
              "      <td>Niloufer</td>\n",
              "      <td>Very useful aid for my low vision.</td>\n",
              "      <td>5.0 out of 5 stars</td>\n",
              "      <td>I chose iPhone plus because I have low visio...</td>\n",
              "    </tr>\n",
              "    <tr>\n",
              "      <th>8</th>\n",
              "      <td>8</td>\n",
              "      <td>Saptarshi D.</td>\n",
              "      <td>honest iPhone 7plus review Best purchase after...</td>\n",
              "      <td>5.0 out of 5 stars</td>\n",
              "      <td>I have used the iPhone se for an year and de...</td>\n",
              "    </tr>\n",
              "    <tr>\n",
              "      <th>9</th>\n",
              "      <td>9</td>\n",
              "      <td>Vikram Misra</td>\n",
              "      <td>Amazing product by Apple</td>\n",
              "      <td>5.0 out of 5 stars</td>\n",
              "      <td>I have been using Apple iPhone 7Plus for las...</td>\n",
              "    </tr>\n",
              "  </tbody>\n",
              "</table>\n",
              "</div>"
            ],
            "text/plain": [
              "   Unnamed: 0  ...                                            Reviews\n",
              "0           0  ...    I got all the accessories and original produ...\n",
              "1           1  ...    Good phone even in 2018I was andriod fan boy...\n",
              "2           2  ...    Got my hands on my first iPhone and the expe...\n",
              "3           3  ...    Display scratch so is there any Chanses to r...\n",
              "4           4  ...    Good cameraGood battery lifeTouch sensibilit...\n",
              "5           5  ...    Using about 3weeks my opinion fot this iphon...\n",
              "6           6  ...    I know in this price bracket there are sever...\n",
              "7           7  ...    I chose iPhone plus because I have low visio...\n",
              "8           8  ...    I have used the iPhone se for an year and de...\n",
              "9           9  ...    I have been using Apple iPhone 7Plus for las...\n",
              "\n",
              "[10 rows x 5 columns]"
            ]
          },
          "metadata": {},
          "execution_count": 6
        }
      ]
    },
    {
      "cell_type": "code",
      "metadata": {
        "id": "tTmln9Kk11Eg"
      },
      "source": [
        "affin=pd.read_csv('/content/drive/MyDrive/google colab/Afinn.csv',sep=',',encoding='latin-1')"
      ],
      "execution_count": 7,
      "outputs": []
    },
    {
      "cell_type": "code",
      "metadata": {
        "colab": {
          "base_uri": "https://localhost:8080/",
          "height": 423
        },
        "id": "nY6MFJGZ2SBA",
        "outputId": "8cb9bc34-592b-439f-d454-89141e4d4e1b"
      },
      "source": [
        "affin"
      ],
      "execution_count": 8,
      "outputs": [
        {
          "output_type": "execute_result",
          "data": {
            "text/html": [
              "<div>\n",
              "<style scoped>\n",
              "    .dataframe tbody tr th:only-of-type {\n",
              "        vertical-align: middle;\n",
              "    }\n",
              "\n",
              "    .dataframe tbody tr th {\n",
              "        vertical-align: top;\n",
              "    }\n",
              "\n",
              "    .dataframe thead th {\n",
              "        text-align: right;\n",
              "    }\n",
              "</style>\n",
              "<table border=\"1\" class=\"dataframe\">\n",
              "  <thead>\n",
              "    <tr style=\"text-align: right;\">\n",
              "      <th></th>\n",
              "      <th>word</th>\n",
              "      <th>value</th>\n",
              "    </tr>\n",
              "  </thead>\n",
              "  <tbody>\n",
              "    <tr>\n",
              "      <th>0</th>\n",
              "      <td>abandon</td>\n",
              "      <td>-2</td>\n",
              "    </tr>\n",
              "    <tr>\n",
              "      <th>1</th>\n",
              "      <td>abandoned</td>\n",
              "      <td>-2</td>\n",
              "    </tr>\n",
              "    <tr>\n",
              "      <th>2</th>\n",
              "      <td>abandons</td>\n",
              "      <td>-2</td>\n",
              "    </tr>\n",
              "    <tr>\n",
              "      <th>3</th>\n",
              "      <td>abducted</td>\n",
              "      <td>-2</td>\n",
              "    </tr>\n",
              "    <tr>\n",
              "      <th>4</th>\n",
              "      <td>abduction</td>\n",
              "      <td>-2</td>\n",
              "    </tr>\n",
              "    <tr>\n",
              "      <th>...</th>\n",
              "      <td>...</td>\n",
              "      <td>...</td>\n",
              "    </tr>\n",
              "    <tr>\n",
              "      <th>2472</th>\n",
              "      <td>yucky</td>\n",
              "      <td>-2</td>\n",
              "    </tr>\n",
              "    <tr>\n",
              "      <th>2473</th>\n",
              "      <td>yummy</td>\n",
              "      <td>3</td>\n",
              "    </tr>\n",
              "    <tr>\n",
              "      <th>2474</th>\n",
              "      <td>zealot</td>\n",
              "      <td>-2</td>\n",
              "    </tr>\n",
              "    <tr>\n",
              "      <th>2475</th>\n",
              "      <td>zealots</td>\n",
              "      <td>-2</td>\n",
              "    </tr>\n",
              "    <tr>\n",
              "      <th>2476</th>\n",
              "      <td>zealous</td>\n",
              "      <td>2</td>\n",
              "    </tr>\n",
              "  </tbody>\n",
              "</table>\n",
              "<p>2477 rows × 2 columns</p>\n",
              "</div>"
            ],
            "text/plain": [
              "           word  value\n",
              "0       abandon     -2\n",
              "1     abandoned     -2\n",
              "2      abandons     -2\n",
              "3      abducted     -2\n",
              "4     abduction     -2\n",
              "...         ...    ...\n",
              "2472      yucky     -2\n",
              "2473      yummy      3\n",
              "2474     zealot     -2\n",
              "2475    zealots     -2\n",
              "2476    zealous      2\n",
              "\n",
              "[2477 rows x 2 columns]"
            ]
          },
          "metadata": {},
          "execution_count": 8
        }
      ]
    },
    {
      "cell_type": "code",
      "metadata": {
        "colab": {
          "base_uri": "https://localhost:8080/"
        },
        "id": "lod6cVmW2SSY",
        "outputId": "ed56de09-c796-42f4-f3d1-790cd895ca48"
      },
      "source": [
        "affin.shape"
      ],
      "execution_count": 9,
      "outputs": [
        {
          "output_type": "execute_result",
          "data": {
            "text/plain": [
              "(2477, 2)"
            ]
          },
          "metadata": {},
          "execution_count": 9
        }
      ]
    },
    {
      "cell_type": "code",
      "metadata": {
        "colab": {
          "base_uri": "https://localhost:8080/",
          "height": 423
        },
        "id": "8dWZF1m02YBJ",
        "outputId": "29803fcc-d06c-41e6-a057-d31dab9a05e2"
      },
      "source": [
        "affin[1500:]"
      ],
      "execution_count": 10,
      "outputs": [
        {
          "output_type": "execute_result",
          "data": {
            "text/html": [
              "<div>\n",
              "<style scoped>\n",
              "    .dataframe tbody tr th:only-of-type {\n",
              "        vertical-align: middle;\n",
              "    }\n",
              "\n",
              "    .dataframe tbody tr th {\n",
              "        vertical-align: top;\n",
              "    }\n",
              "\n",
              "    .dataframe thead th {\n",
              "        text-align: right;\n",
              "    }\n",
              "</style>\n",
              "<table border=\"1\" class=\"dataframe\">\n",
              "  <thead>\n",
              "    <tr style=\"text-align: right;\">\n",
              "      <th></th>\n",
              "      <th>word</th>\n",
              "      <th>value</th>\n",
              "    </tr>\n",
              "  </thead>\n",
              "  <tbody>\n",
              "    <tr>\n",
              "      <th>1500</th>\n",
              "      <td>masterpieces</td>\n",
              "      <td>4</td>\n",
              "    </tr>\n",
              "    <tr>\n",
              "      <th>1501</th>\n",
              "      <td>matter</td>\n",
              "      <td>1</td>\n",
              "    </tr>\n",
              "    <tr>\n",
              "      <th>1502</th>\n",
              "      <td>matters</td>\n",
              "      <td>1</td>\n",
              "    </tr>\n",
              "    <tr>\n",
              "      <th>1503</th>\n",
              "      <td>mature</td>\n",
              "      <td>2</td>\n",
              "    </tr>\n",
              "    <tr>\n",
              "      <th>1504</th>\n",
              "      <td>meaningful</td>\n",
              "      <td>2</td>\n",
              "    </tr>\n",
              "    <tr>\n",
              "      <th>...</th>\n",
              "      <td>...</td>\n",
              "      <td>...</td>\n",
              "    </tr>\n",
              "    <tr>\n",
              "      <th>2472</th>\n",
              "      <td>yucky</td>\n",
              "      <td>-2</td>\n",
              "    </tr>\n",
              "    <tr>\n",
              "      <th>2473</th>\n",
              "      <td>yummy</td>\n",
              "      <td>3</td>\n",
              "    </tr>\n",
              "    <tr>\n",
              "      <th>2474</th>\n",
              "      <td>zealot</td>\n",
              "      <td>-2</td>\n",
              "    </tr>\n",
              "    <tr>\n",
              "      <th>2475</th>\n",
              "      <td>zealots</td>\n",
              "      <td>-2</td>\n",
              "    </tr>\n",
              "    <tr>\n",
              "      <th>2476</th>\n",
              "      <td>zealous</td>\n",
              "      <td>2</td>\n",
              "    </tr>\n",
              "  </tbody>\n",
              "</table>\n",
              "<p>977 rows × 2 columns</p>\n",
              "</div>"
            ],
            "text/plain": [
              "              word  value\n",
              "1500  masterpieces      4\n",
              "1501        matter      1\n",
              "1502       matters      1\n",
              "1503        mature      2\n",
              "1504    meaningful      2\n",
              "...            ...    ...\n",
              "2472         yucky     -2\n",
              "2473         yummy      3\n",
              "2474        zealot     -2\n",
              "2475       zealots     -2\n",
              "2476       zealous      2\n",
              "\n",
              "[977 rows x 2 columns]"
            ]
          },
          "metadata": {},
          "execution_count": 10
        }
      ]
    },
    {
      "cell_type": "code",
      "metadata": {
        "colab": {
          "base_uri": "https://localhost:8080/"
        },
        "id": "vFFGxwFY2bcz",
        "outputId": "228fa864-ce12-4d07-f42c-27b6d01a22da"
      },
      "source": [
        "affin.to_numpy()"
      ],
      "execution_count": 16,
      "outputs": [
        {
          "output_type": "execute_result",
          "data": {
            "text/plain": [
              "array([['abandon', -2],\n",
              "       ['abandoned', -2],\n",
              "       ['abandons', -2],\n",
              "       ...,\n",
              "       ['zealot', -2],\n",
              "       ['zealots', -2],\n",
              "       ['zealous', 2]], dtype=object)"
            ]
          },
          "metadata": {},
          "execution_count": 16
        }
      ]
    },
    {
      "cell_type": "code",
      "metadata": {
        "id": "2li6rTmJ2dLR"
      },
      "source": [
        "nlp=spacy.load('en_core_web_sm')"
      ],
      "execution_count": 17,
      "outputs": []
    },
    {
      "cell_type": "code",
      "metadata": {
        "id": "7IcrU4S72dch"
      },
      "source": [
        "sentiment_laxicon=affin"
      ],
      "execution_count": 18,
      "outputs": []
    },
    {
      "cell_type": "code",
      "metadata": {
        "id": "fx77kJRU2dxr"
      },
      "source": [
        "def calculate_emotion(text:str=None):\n",
        "    sent_score=0\n",
        "    if text:\n",
        "        reviews=nlp(text)\n",
        "        print(reviews)\n",
        "        for word in reviews:\n",
        "            sent_score+=sentiment_laxicon.get(word.lemma_,0)\n",
        "            return sent_score\n",
        "            "
      ],
      "execution_count": 21,
      "outputs": []
    },
    {
      "cell_type": "code",
      "metadata": {
        "colab": {
          "base_uri": "https://localhost:8080/"
        },
        "id": "fThMMOuo2eEV",
        "outputId": "0e49d0a4-bdbf-43a4-860f-8fad457316f8"
      },
      "source": [
        "calculate_emotion(text='Amazed')"
      ],
      "execution_count": 22,
      "outputs": [
        {
          "output_type": "stream",
          "name": "stdout",
          "text": [
            "Amazed\n"
          ]
        },
        {
          "output_type": "execute_result",
          "data": {
            "text/plain": [
              "0"
            ]
          },
          "metadata": {},
          "execution_count": 22
        }
      ]
    },
    {
      "cell_type": "code",
      "metadata": {
        "colab": {
          "base_uri": "https://localhost:8080/"
        },
        "id": "Bygpks1z2eUL",
        "outputId": "628a9620-b3fb-4515-bca1-ca39025d0d9f"
      },
      "source": [
        "reviews['emotion_value']=reviews['Reviews'].apply(calculate_emotion)"
      ],
      "execution_count": 24,
      "outputs": [
        {
          "output_type": "stream",
          "name": "stdout",
          "text": [
            "  I got all the accessories and original product...\n",
            "  Good phone even in 2018I was andriod fan boy but now i doubt :)Happy to have it.\n",
            "  Got my hands on my first iPhone and the experience has been great so far. Games run smoothly and the camera is top-notch. Beautiful display and body. iPhone 7p is the best apple phone you can get with the best features and storage. My only complain is that the battery runs out quite fast and I need to carry my power bank everywhere I go but I haven’t upgraded to iOS 12.\n",
            "  Display scratch so is there any Chanses to replace ??\n",
            "  Good cameraGood battery lifeTouch sensibility very smooth5.5 hd display4k videographyQuit disappoint about packing my package was tear but product box was good\n",
            "  Using about 3weeks my opinion fot this iphone 7 plus is in really amazing ,i used early android os but now switching for android to ios ,its really worth to spend 44k in dis , best in class camera , great sound output and decent battery too, only thing which im also noticed that for some app or in charging d phone phone really heated . I dont know why some times it does heating and sometimes not, apart from this im really in beast mode to buy this phone..\n",
            "  I know in this price bracket there are several other options but why and who should consider to buy an iPhone 7 plus in 2020. Let's dig into the answer.1. Build quality is exceptional. Unibody aluminium and glass front with precision finishing. Better from other android phones and more durable than glass back phones.2. You know apple's iPad 10.2 which was launched in 2019 came out with the same chipset. A10 fusion chip. This is still capable enough and beleive me better than any Snapdragon 700 series processors. Even gives a tough competition to the 800 series. No lags no stutters nothing at all. OS is brilliantly optimised.3. Iphone 7 plus will get ios 14 and 15. This phone is a long runner. You will get software support for next three years for sure. I hardly doubt any android would get the same treatment in this price range. Even iphone 6 series would get ios 14. Just imagine.4. Battery backup is not extraordinary. But the OS is brilliantly optimised as I've told earlier. So you would get one day of back up for moderate to heavy use. You will get more than 5 hours screen on time on heavy usage, which is considered to be great in this time.5. Camera is the only department where it lacks. You can expect good pictures in daylight condition with crisp details and decent quality. Low light performance is average. Takes decent selfies also. But in this era of megapixel counts I must be honest that iphone 7 plus doesn't deliver a stellar camera performance. So if this is your only zone of consideration I would suggest don't go for iphone 7 plus, as it is a decent performer but not an exceptional one.6. If you're familiar to IOS then you know how good is this. So I would not elaborate this category. People who want to shift from Android, they won't be disappointed.This was my honest opinion. Now you make the decision. Thank you.\n",
            "  I chose iPhone plus because I have low vision and found it difficult to read messages , mails in my iphone5s. I like the phone, silver in coliour . The picture quality is better than the previous versions. Now I am able to read mails, watch videos on the bigger screen.It  is a boon for persons like me having impaired vision.\n",
            "  I have used the iPhone se for an year and decided to jump the cannon with iPhone 7 plus. After searching and researching on various online platforms, I set my eye on this beast. To be truthfull I had to tweak my notifications, haptics and make other changes to make this phone last longer than 5 hours a day.Yet, I am not complaining!The phones clicks amazing pictures, especially at low light (you just need to know the camera lens and external lighting).Best buy for me during the big Indian shopping featival that Amazon held early October.All-in-all 5 star purchase.\n",
            "  I have been using Apple iPhone 7Plus for last 18 months and there have been ZERO complaints so far. Though upgrades have come, I will be using it for at least another 18-24 months before moving to next-gen Apple product.\n"
          ]
        }
      ]
    },
    {
      "cell_type": "code",
      "metadata": {
        "colab": {
          "base_uri": "https://localhost:8080/",
          "height": 362
        },
        "id": "_rssn7xn2ejZ",
        "outputId": "2b2824ae-28d1-4c37-8cee-9fe290d16b53"
      },
      "source": [
        "reviews"
      ],
      "execution_count": 25,
      "outputs": [
        {
          "output_type": "execute_result",
          "data": {
            "text/html": [
              "<div>\n",
              "<style scoped>\n",
              "    .dataframe tbody tr th:only-of-type {\n",
              "        vertical-align: middle;\n",
              "    }\n",
              "\n",
              "    .dataframe tbody tr th {\n",
              "        vertical-align: top;\n",
              "    }\n",
              "\n",
              "    .dataframe thead th {\n",
              "        text-align: right;\n",
              "    }\n",
              "</style>\n",
              "<table border=\"1\" class=\"dataframe\">\n",
              "  <thead>\n",
              "    <tr style=\"text-align: right;\">\n",
              "      <th></th>\n",
              "      <th>Unnamed: 0</th>\n",
              "      <th>custmer_name</th>\n",
              "      <th>Review_Title</th>\n",
              "      <th>Rating</th>\n",
              "      <th>Reviews</th>\n",
              "      <th>emotion_value</th>\n",
              "    </tr>\n",
              "  </thead>\n",
              "  <tbody>\n",
              "    <tr>\n",
              "      <th>0</th>\n",
              "      <td>0</td>\n",
              "      <td>umesh khamparia</td>\n",
              "      <td>Original genuine product</td>\n",
              "      <td>1.0 out of 5 stars</td>\n",
              "      <td>I got all the accessories and original produ...</td>\n",
              "      <td>0</td>\n",
              "    </tr>\n",
              "    <tr>\n",
              "      <th>1</th>\n",
              "      <td>1</td>\n",
              "      <td>Prakash</td>\n",
              "      <td>My first iphone</td>\n",
              "      <td>5.0 out of 5 stars</td>\n",
              "      <td>Good phone even in 2018I was andriod fan boy...</td>\n",
              "      <td>0</td>\n",
              "    </tr>\n",
              "    <tr>\n",
              "      <th>2</th>\n",
              "      <td>2</td>\n",
              "      <td>Upashna Rai</td>\n",
              "      <td>Beautiful beast.</td>\n",
              "      <td>5.0 out of 5 stars</td>\n",
              "      <td>Got my hands on my first iPhone and the expe...</td>\n",
              "      <td>0</td>\n",
              "    </tr>\n",
              "    <tr>\n",
              "      <th>3</th>\n",
              "      <td>3</td>\n",
              "      <td>Amazon Customer</td>\n",
              "      <td>Five Stars</td>\n",
              "      <td>5.0 out of 5 stars</td>\n",
              "      <td>Display scratch so is there any Chanses to r...</td>\n",
              "      <td>0</td>\n",
              "    </tr>\n",
              "    <tr>\n",
              "      <th>4</th>\n",
              "      <td>4</td>\n",
              "      <td>Rajat h.</td>\n",
              "      <td>Good brand new iphone 7plus</td>\n",
              "      <td>5.0 out of 5 stars</td>\n",
              "      <td>Good cameraGood battery lifeTouch sensibilit...</td>\n",
              "      <td>0</td>\n",
              "    </tr>\n",
              "    <tr>\n",
              "      <th>5</th>\n",
              "      <td>5</td>\n",
              "      <td>Lusi</td>\n",
              "      <td>Happy to have you iphone😁😁</td>\n",
              "      <td>4.0 out of 5 stars</td>\n",
              "      <td>Using about 3weeks my opinion fot this iphon...</td>\n",
              "      <td>0</td>\n",
              "    </tr>\n",
              "    <tr>\n",
              "      <th>6</th>\n",
              "      <td>6</td>\n",
              "      <td>Mriganka Roy Choudhury</td>\n",
              "      <td>Who should purchase an iPhone 7 plus in 2020?</td>\n",
              "      <td>5.0 out of 5 stars</td>\n",
              "      <td>I know in this price bracket there are sever...</td>\n",
              "      <td>0</td>\n",
              "    </tr>\n",
              "    <tr>\n",
              "      <th>7</th>\n",
              "      <td>7</td>\n",
              "      <td>Niloufer</td>\n",
              "      <td>Very useful aid for my low vision.</td>\n",
              "      <td>5.0 out of 5 stars</td>\n",
              "      <td>I chose iPhone plus because I have low visio...</td>\n",
              "      <td>0</td>\n",
              "    </tr>\n",
              "    <tr>\n",
              "      <th>8</th>\n",
              "      <td>8</td>\n",
              "      <td>Saptarshi D.</td>\n",
              "      <td>honest iPhone 7plus review Best purchase after...</td>\n",
              "      <td>5.0 out of 5 stars</td>\n",
              "      <td>I have used the iPhone se for an year and de...</td>\n",
              "      <td>0</td>\n",
              "    </tr>\n",
              "    <tr>\n",
              "      <th>9</th>\n",
              "      <td>9</td>\n",
              "      <td>Vikram Misra</td>\n",
              "      <td>Amazing product by Apple</td>\n",
              "      <td>5.0 out of 5 stars</td>\n",
              "      <td>I have been using Apple iPhone 7Plus for las...</td>\n",
              "      <td>0</td>\n",
              "    </tr>\n",
              "  </tbody>\n",
              "</table>\n",
              "</div>"
            ],
            "text/plain": [
              "   Unnamed: 0  ... emotion_value\n",
              "0           0  ...             0\n",
              "1           1  ...             0\n",
              "2           2  ...             0\n",
              "3           3  ...             0\n",
              "4           4  ...             0\n",
              "5           5  ...             0\n",
              "6           6  ...             0\n",
              "7           7  ...             0\n",
              "8           8  ...             0\n",
              "9           9  ...             0\n",
              "\n",
              "[10 rows x 6 columns]"
            ]
          },
          "metadata": {},
          "execution_count": 25
        }
      ]
    },
    {
      "cell_type": "code",
      "metadata": {
        "id": "uLwtej3D2e8o"
      },
      "source": [
        ""
      ],
      "execution_count": null,
      "outputs": []
    },
    {
      "cell_type": "code",
      "metadata": {
        "id": "MNf4vt1x2fNQ"
      },
      "source": [
        ""
      ],
      "execution_count": null,
      "outputs": []
    },
    {
      "cell_type": "code",
      "metadata": {
        "id": "JPvMhegY2feL"
      },
      "source": [
        ""
      ],
      "execution_count": null,
      "outputs": []
    },
    {
      "cell_type": "code",
      "metadata": {
        "id": "W8trwxrJ2fvb"
      },
      "source": [
        ""
      ],
      "execution_count": null,
      "outputs": []
    }
  ]
}