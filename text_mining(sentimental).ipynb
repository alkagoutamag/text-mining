{
  "nbformat": 4,
  "nbformat_minor": 0,
  "metadata": {
    "colab": {
      "name": "text_mining(sentimental).ipynb",
      "provenance": []
    },
    "kernelspec": {
      "name": "python3",
      "display_name": "Python 3"
    },
    "language_info": {
      "name": "python"
    },
    "accelerator": "GPU"
  },
  "cells": [
    {
      "cell_type": "markdown",
      "metadata": {
        "id": "9URwpSFWnlYW"
      },
      "source": [
        "## import data"
      ]
    },
    {
      "cell_type": "code",
      "metadata": {
        "id": "Qg2DE02PnrkZ"
      },
      "source": [
        "import pandas as pd"
      ],
      "execution_count": 3,
      "outputs": []
    },
    {
      "cell_type": "code",
      "metadata": {
        "colab": {
          "base_uri": "https://localhost:8080/",
          "height": 423
        },
        "id": "CPLcXYaunuM5",
        "outputId": "9679c64b-2074-4840-f34f-6fb62842677f"
      },
      "source": [
        "data=pd.read_csv('/content/drive/MyDrive/google colab/Elon_musk(utf_8).csv')\n",
        "data"
      ],
      "execution_count": 4,
      "outputs": [
        {
          "output_type": "execute_result",
          "data": {
            "text/html": [
              "<div>\n",
              "<style scoped>\n",
              "    .dataframe tbody tr th:only-of-type {\n",
              "        vertical-align: middle;\n",
              "    }\n",
              "\n",
              "    .dataframe tbody tr th {\n",
              "        vertical-align: top;\n",
              "    }\n",
              "\n",
              "    .dataframe thead th {\n",
              "        text-align: right;\n",
              "    }\n",
              "</style>\n",
              "<table border=\"1\" class=\"dataframe\">\n",
              "  <thead>\n",
              "    <tr style=\"text-align: right;\">\n",
              "      <th></th>\n",
              "      <th>Unnamed: 0</th>\n",
              "      <th>Text</th>\n",
              "    </tr>\n",
              "  </thead>\n",
              "  <tbody>\n",
              "    <tr>\n",
              "      <th>0</th>\n",
              "      <td>1</td>\n",
              "      <td>@kunalb11 I’m an alien</td>\n",
              "    </tr>\n",
              "    <tr>\n",
              "      <th>1</th>\n",
              "      <td>2</td>\n",
              "      <td>@ID_AA_Carmack Ray tracing on Cyberpunk with H...</td>\n",
              "    </tr>\n",
              "    <tr>\n",
              "      <th>2</th>\n",
              "      <td>3</td>\n",
              "      <td>@joerogan @Spotify Great interview!</td>\n",
              "    </tr>\n",
              "    <tr>\n",
              "      <th>3</th>\n",
              "      <td>4</td>\n",
              "      <td>@gtera27 Doge is underestimated</td>\n",
              "    </tr>\n",
              "    <tr>\n",
              "      <th>4</th>\n",
              "      <td>5</td>\n",
              "      <td>@teslacn Congratulations Tesla China for amazi...</td>\n",
              "    </tr>\n",
              "    <tr>\n",
              "      <th>...</th>\n",
              "      <td>...</td>\n",
              "      <td>...</td>\n",
              "    </tr>\n",
              "    <tr>\n",
              "      <th>1994</th>\n",
              "      <td>1995</td>\n",
              "      <td>@flcnhvy True, it sounds so surreal, but the n...</td>\n",
              "    </tr>\n",
              "    <tr>\n",
              "      <th>1995</th>\n",
              "      <td>1996</td>\n",
              "      <td>@PPathole Make sure to read ur terms &amp;amp; con...</td>\n",
              "    </tr>\n",
              "    <tr>\n",
              "      <th>1996</th>\n",
              "      <td>1997</td>\n",
              "      <td>@TeslaGong @PPathole Samwise Gamgee</td>\n",
              "    </tr>\n",
              "    <tr>\n",
              "      <th>1997</th>\n",
              "      <td>1998</td>\n",
              "      <td>@PPathole Altho Dumb and Dumber is &lt;U+0001F525...</td>\n",
              "    </tr>\n",
              "    <tr>\n",
              "      <th>1998</th>\n",
              "      <td>1999</td>\n",
              "      <td>Progress update August 28</td>\n",
              "    </tr>\n",
              "  </tbody>\n",
              "</table>\n",
              "<p>1999 rows × 2 columns</p>\n",
              "</div>"
            ],
            "text/plain": [
              "      Unnamed: 0                                               Text\n",
              "0              1                             @kunalb11 I’m an alien\n",
              "1              2  @ID_AA_Carmack Ray tracing on Cyberpunk with H...\n",
              "2              3                @joerogan @Spotify Great interview!\n",
              "3              4                    @gtera27 Doge is underestimated\n",
              "4              5  @teslacn Congratulations Tesla China for amazi...\n",
              "...          ...                                                ...\n",
              "1994        1995  @flcnhvy True, it sounds so surreal, but the n...\n",
              "1995        1996  @PPathole Make sure to read ur terms &amp; con...\n",
              "1996        1997                @TeslaGong @PPathole Samwise Gamgee\n",
              "1997        1998  @PPathole Altho Dumb and Dumber is <U+0001F525...\n",
              "1998        1999                          Progress update August 28\n",
              "\n",
              "[1999 rows x 2 columns]"
            ]
          },
          "metadata": {},
          "execution_count": 4
        }
      ]
    },
    {
      "cell_type": "code",
      "metadata": {
        "colab": {
          "base_uri": "https://localhost:8080/"
        },
        "id": "kFP9J1GSqvbs",
        "outputId": "0c9a9f84-8cf9-4945-dd33-df5a4a4fea8b"
      },
      "source": [
        "\n",
        "#Data Preprocessing\n",
        "import re\n",
        "import nltk #Natural Language ToolKit\n",
        "nltk.download('stopwords')\n"
      ],
      "execution_count": 5,
      "outputs": [
        {
          "output_type": "stream",
          "name": "stdout",
          "text": [
            "[nltk_data] Downloading package stopwords to /root/nltk_data...\n",
            "[nltk_data]   Unzipping corpora/stopwords.zip.\n"
          ]
        },
        {
          "output_type": "execute_result",
          "data": {
            "text/plain": [
              "True"
            ]
          },
          "metadata": {},
          "execution_count": 5
        }
      ]
    },
    {
      "cell_type": "code",
      "metadata": {
        "colab": {
          "base_uri": "https://localhost:8080/",
          "height": 423
        },
        "id": "rb1BFmetraKI",
        "outputId": "5ab6dd7b-e161-4960-ce02-81370e3403f3"
      },
      "source": [
        "from nltk.corpus import stopwords\n",
        "stopwords=pd.read_csv('/content/drive/MyDrive/google colab/stop.txt')\n",
        "stopwords\n"
      ],
      "execution_count": 6,
      "outputs": [
        {
          "output_type": "execute_result",
          "data": {
            "text/html": [
              "<div>\n",
              "<style scoped>\n",
              "    .dataframe tbody tr th:only-of-type {\n",
              "        vertical-align: middle;\n",
              "    }\n",
              "\n",
              "    .dataframe tbody tr th {\n",
              "        vertical-align: top;\n",
              "    }\n",
              "\n",
              "    .dataframe thead th {\n",
              "        text-align: right;\n",
              "    }\n",
              "</style>\n",
              "<table border=\"1\" class=\"dataframe\">\n",
              "  <thead>\n",
              "    <tr style=\"text-align: right;\">\n",
              "      <th></th>\n",
              "      <th>a</th>\n",
              "    </tr>\n",
              "  </thead>\n",
              "  <tbody>\n",
              "    <tr>\n",
              "      <th>0</th>\n",
              "      <td>a's</td>\n",
              "    </tr>\n",
              "    <tr>\n",
              "      <th>1</th>\n",
              "      <td>able</td>\n",
              "    </tr>\n",
              "    <tr>\n",
              "      <th>2</th>\n",
              "      <td>about</td>\n",
              "    </tr>\n",
              "    <tr>\n",
              "      <th>3</th>\n",
              "      <td>above</td>\n",
              "    </tr>\n",
              "    <tr>\n",
              "      <th>4</th>\n",
              "      <td>according</td>\n",
              "    </tr>\n",
              "    <tr>\n",
              "      <th>...</th>\n",
              "      <td>...</td>\n",
              "    </tr>\n",
              "    <tr>\n",
              "      <th>565</th>\n",
              "      <td>yours</td>\n",
              "    </tr>\n",
              "    <tr>\n",
              "      <th>566</th>\n",
              "      <td>yourself</td>\n",
              "    </tr>\n",
              "    <tr>\n",
              "      <th>567</th>\n",
              "      <td>yourselves</td>\n",
              "    </tr>\n",
              "    <tr>\n",
              "      <th>568</th>\n",
              "      <td>z</td>\n",
              "    </tr>\n",
              "    <tr>\n",
              "      <th>569</th>\n",
              "      <td>zero</td>\n",
              "    </tr>\n",
              "  </tbody>\n",
              "</table>\n",
              "<p>570 rows × 1 columns</p>\n",
              "</div>"
            ],
            "text/plain": [
              "              a\n",
              "0           a's\n",
              "1          able\n",
              "2         about\n",
              "3         above\n",
              "4     according\n",
              "..          ...\n",
              "565       yours\n",
              "566    yourself\n",
              "567  yourselves\n",
              "568           z\n",
              "569        zero\n",
              "\n",
              "[570 rows x 1 columns]"
            ]
          },
          "metadata": {},
          "execution_count": 6
        }
      ]
    },
    {
      "cell_type": "code",
      "metadata": {
        "colab": {
          "base_uri": "https://localhost:8080/"
        },
        "id": "cLZpodhlracd",
        "outputId": "34bf5562-57fa-46bb-e423-b40adb424373"
      },
      "source": [
        "\n",
        "#For Lemmetization\n",
        "nltk.download('wordnet')\n",
        "from nltk.stem import WordNetLemmatizer\n",
        "lm = WordNetLemmatizer()\n"
      ],
      "execution_count": 7,
      "outputs": [
        {
          "output_type": "stream",
          "name": "stdout",
          "text": [
            "[nltk_data] Downloading package wordnet to /root/nltk_data...\n",
            "[nltk_data]   Unzipping corpora/wordnet.zip.\n"
          ]
        }
      ]
    },
    {
      "cell_type": "code",
      "metadata": {
        "id": "MWloczRxrav5"
      },
      "source": [
        "#Text Preprocessing\n",
        "corpus = []\n",
        "\n",
        "for i in range(0,len(data)):\n",
        "    review = re.sub('[^a-zA-z]',' ',data['Text'][i])\n",
        "    review = review.lower()\n",
        "    review = review.split()\n",
        "    review  = [lm.lemmatize(word) for word in review if not word in stopwords]\n",
        "    review = ' '.join(review)\n",
        "    corpus.append(review)\n",
        "    "
      ],
      "execution_count": 8,
      "outputs": []
    },
    {
      "cell_type": "code",
      "metadata": {
        "colab": {
          "base_uri": "https://localhost:8080/",
          "height": 87
        },
        "id": "tt5YaOdsulWW",
        "outputId": "b3c8f823-f82a-4ec5-8467-80bc78690ba2"
      },
      "source": [
        "listTOstring=' '.join(map(str,corpus))\n",
        "listTOstring"
      ],
      "execution_count": 65,
      "outputs": [
        {
          "output_type": "execute_result",
          "data": {
            "application/vnd.google.colaboratory.intrinsic+json": {
              "type": "string"
            },
            "text/plain": [
              "'kunalb i m an alien id_aa_carmack ray tracing on cyberpunk with hdr is next level have you tried it joerogan spotify great interview gtera doge is underestimated teslacn congratulation tesla china for amazing execution last year now on to the next for even more happy new year of the ox http t co wfkmyu oj frodo wa the underdoge all thought he would fail himself most of all http t co zgxjfdzzrm owensparks_ flcnhvy anonyx haha thanks flcnhvy anonyx indeed tweet definitely do not represent real world time allocation the most entertaining outcome is the most likely givedirectly just sent some just agree to do clubhouse with kanyewest http t co rwe uhsts geoffkeighley unrealengine it s getting real bought some dogecoin for lil x so he can be toddler hodler joshmanmode he definitely ha issue but the sentencing seems bit high freewalletorg thanks for fixing freewalletorg please unlock my account astrojordy u f u f this is true power haha http t co fc uhqsd o freewalletorg any crypto wallet that won t give you your private key should be avoided at all cost freewalletorg your app suck rt spacex nasa ha selected falcon heavy to launch the first two element of the lunar gateway together on one mission http t co pwt ajtourville yes blkmdl rationaletienne adamklotz_ once we can predict cash flow reasonably well starlink will ipo rationaletienne adamklotz_ starlink is staggeringly difficult technical amp economic endeavor however if we don http t co z ac skqx rationaletienne adamklotz_ spacex need to pas through deep chasm of negative cash flow over the next year or http t co j c hdjl id_aa_carmack lowest cost per ton of carbon sequestered net of value of any product made must be scalable to g http t co xmyi qwsgw adamklotz_ it s meant to be the same price in all country only difference should be tax amp shipping tobyliiiiiiiiii this is intended for earth but there may be some idea that apply to mar too cryptoshrikar coindesk tesla dan_z_palmer u f u f xprize team will manage the m carbon capture prize http t co fsw ianl r sruhle everyone at tesla receives stock my comp is all stock option which i do not take off the table that s what you re missing back to work i go capybarasurfer mattwallace doe seem bit high itsallrisky doge appears to be inflationary but is not meaningfully so fixed of coin per unit time whereas http t co uh rarc t michaelgalanin kevinmgill wow erdayastronaut michaelhodapp_ orbital launch tower that can stack enough raptor for orbit booster improve ship amp booster mass michaelhodapp_ back to work tonight is for ogecoin instructional video http t co ueeocofctb the people have spoken http t co x ovmztgo nivetha_ _ lexfridman so cute u f univercurious extremely misleading image a doesn t reflect true time cost to people or rain amp pain u f b who let the doge out u f b hodl the rainforest so it s finally come to this http t co gf rg qoaf itsallrisky it s the most fun crypto joshroomsburg snoopdogg genesimmons it simplicity is it genius astro_g_dogg spacex yup jbuttermost dogecoinrich u f u f wapodavenport true dogecoinrich u f u f flcnhvy astrojordy not that easy this is two decade of intense work have to look at old note email text astrojordy yes lesson learned of earth and mar time to tell the story of tesla amp spacex theonion have you read thebabylonbee it s great the second last kingdom http t co je ei hmv dumdin grimezsz haven t heard that name in year grimezsz dogecake yolt http t co cnof yjpf kristennetten that s damian kristennetten yeah owensparks_ sure the great thing about restaurant is that you get to hang out with stranger sjm the future currency of earth redlineshifter just scratch much wow rationaletienne u f wonderofscience destiny renatakonkoly teslarati woodhaus franz wa essential erdayastronaut josh_bickett ajtourville spacex that said the ship landing burn ha clear solution my greate http t co e wikiugkz adamklotz_ erdayastronaut josh_bickett ajtourville spacex will still use hot gas maneuvering rcs thruster http t co vso h ioed erdayastronaut josh_bickett ajtourville spacex higher isp too erdayastronaut josh_bickett ajtourville spacex intuitively it would seem so but turbopump fed raptor have mu http t co lbtg sibuc brendan nasaspaceflight yes rt spacex falcon will launch nasa s spherex mission which will collect data on more than million galaxy and explore how the un rt spacex falcon launch starlink satellite to orbit mission from pad on deck http t co cucbgpnx mikko darudevil it s true josh_bickett ajtourville erdayastronaut spacex yeah by default engine with least lever arm would shut down if all are good ajtourville erdayastronaut spacex yes but engine have min throttle point where there is flameout risk so la http t co thniyssnwn adamklotz_ erdayastronaut spacex yes erdayastronaut spacex it wa foolish of u not to start engine amp immediately shut down a are needed to land i am become meme destroyer of short commander_cruz might actually happen sandstorm is masterpiece madoverlord we were too dumb next time we try pull up method http t co j m whlrdr low key loki no high no low only doge no need to be gigachad to own dogecoin is the people s crypto ur welcome http t co e kf klxb huobiglobal the most entertaining outcome is the most likely doge http t co vviuzwhodt erdayastronaut high sea amp wind this wa tough one http t co bey pefpcj rt spacex watch falcon launch starlink satellite u http t co bjfjlczwdk http t co ln reesbw off twitter for while it will be filled with graffiti art eiraum u c u b u u u u b u u u c giga berlin progress http t co ekpg qcbui hamoon__ neuralink neuralink is working super hard to ensure implant safety amp is in close communication with the http t co yky llpumd rt spacex this mission enables access for everyday people who dream of going to space rt spacex announcing the first commercial astronaut mission to orbit earth aboard dragon u http t co mbesvnakad http t co uklsjffrjk if you ve worked on advanced wearable phone or robot those skill are needed neuralink feel weird helping make hopefully good version of cyberpunk come true please consider working at neuralink short term solve brain spine injury long term human ai symbiosis latte http t co qrc alads http t co xccokojylt on clubhouse tonight at pm la time erdayastronaut tj_cooney lrocket spacex felixschlang marcushousegame tom ha some great story about experim http t co teezkiwcmk rt commercial_crew launch alert u f nasa and spacex are targeting no earlier than april for the launch of the second crew rotation mi erdayastronaut tj_cooney lrocket spacex felixschlang marcushousegame he became big fan of methane but wa http t co mdv vdefyc tj_cooney lrocket spacex felixschlang marcushousegame that sound correct tom certainly deserves lot of cre http t co hdri hfa b tj_cooney lrocket spacex felixschlang marcushousegame tom is great amp wa instrumental in developing early vers http t co ulxtclm g ercxspace smvllstvrs t w will be so it will accelerate unusually fast high t w is important for reusable v http t co u z cprrqj we dogg teslaownerssv no escaping that for me thebabylonbee read the whole article u f u f warm sunny day amp snowy mountain http t co k psyqu j what beautiful day in la http t co escjtbzo d jaylav_ yeah dr frankensteen http t co wdj k ujqk younesh i never used this guy he gave talk at spacex once flcnhvy only halo http t co pyrcfe xp carnage life i sure hope that s not true at tesla or spacex thejackbeyer nasaspaceflight cryoproof then install engine starship sn amp sn http t co urtpjn amo in retrospect it wa inevitable rgvaerialphotos great shot its_menieb live by the sword die by the sword lexfridman entropy teslaownerssv gamespot buy amp hold company that make good amp produce service you love engineers_feed earth is small amp we are smaller still http t co gtohclgj gamespot u f with cyberpunk even the hotfixes literally have hotfixes but great game http t co kmk pegm documentingbtc the dollar is shorting itself westcoastbill indeed johnnacrider iupsychdoctor aoc robinhoodapp shopify is great too spacex used them ohqwix bnnj bcghvzqxlb u f u f wimgrommen wsbchairman indeed the economy making useful product amp providing great service is what actually matter iupsychdoctor aoc robinhoodapp tanstaafl would be better to have small fee than no fee a latter make robin http t co czrhlolyvo here come the shorty apologist give them no respect get shorty u can t sell house u don t own u can t sell car u don t own but u can sell stock u don t own this is b sh http t co vjkf bqbod rationaletienne teslavangelist yes delayslater finishing engineering this year production start next year aiming to have release candidate desig http t co bfverxpoqu ppathole grimezsz i made that video aoc robinhoodapp absolutely nasaspaceflight unlike it aircraft division which is fine the faa space division ha fundamentally broken reg http t co si axbjbz evankaylor nomad anbuteau u f the esthetic of cyberpunk are incredible btw the interior design is u f c trevormahlmann spacex major esthetic improvement coming teslaownerssv dmc_ryan little dmc_ryan new roadster is part rocket dmc_ryan lafebra gfilche there s more storage now amp easily upgradable avalonpenrose http t co djdzxq maz couch_investor yes _ teslanews wholemarsblog yeah probably in few month wholemarsblog after you drive without using prnd stalk stick for few day it get very annoying to go back amp use shifter wholemarsblog no more stalk car guess drive direction based on what obstacle it see context amp nav map you http t co go ehq qy avalonpenrose hedge fund that short is shrubbery lafebra gfilche http t co m wwqstaxm lafebra gfilche yeah also rear screen to mph trap speed in mile mph top speed with right tire first production car ever to achieve to mph in le than second it can play cyberpunk plaid model s ship next month http t co hfuptnqipb even discord ha gone corpo jason yup wild time on discord haha http t co f fxqkbce andycolt waiting for faa review gamestonk http t co rztkdzaewj labpadre passed initial pressure test adamhoov yes ppathole http t co v cffwac bought hand knit wool marvin the martian helm for my dog http t co gpcvjibtlm i kinda love etsy thesheetztweetz it doe not serve the public to hamstring starlink today for an amazon satellite system that is at http t co snigkxdxfp nextspaceflight we re hoping for faa approval of test flight tomorrow afternoon wholemarsblog the entire stack from data collection through labeling amp inference ha to be in surround video th http t co u sqjkn u flcnhvy wholemarsblog yes although it will be crazy not to turn on fsd wholemarsblog tesla is steadily moving all nns to camera surround video this will enable superhuman self driving naval [some tyranny] also the road to hell is mostly paved with bad intention levine catchy http t co au myf rn megaconstellati aviation_intel jetcitystar larrypress all sat launched next year will have laser link only o http t co ceofli lzm megaconstellati aviation_intel jetcitystar larrypress yup teslagong teslaownerssv cleantechnica i hope so tesmanian_com these also have laser link between the satellite so no ground station are needed over the pole teslaownerssv cleantechnica sorry for the version confusion v is what it should say for fsd separate version number for rest of car cleantechnica to my surprise tesla ha better ai hardware amp software than waymo money ricguccio teslaownerssv it float flcnhvy boringcompany fallout themed opening party for vega loop happening a soon a allowed alex_e_benton boringcompany u f u f under vega in boringcompany tunnel yesterday with my boy http t co tlfouiedfm ppathole spacex laser rt spacex spacex s rideshare offering provides increased access to space for small satellite operator seeking reliable affordable rid rt spacex falcon s first stage ha landed on the of course i still love you droneship http t co gwwllixdg rt spacex liftoff http t co j zvm rh codewisdom u f af teslascope we re switching to more sensible fsd version numbering to distinguish between major amp minor update http t co qmhipv zqs nasaspaceflight hopefully early next week rt spacex due to unfavorable weather we are standing down from today s launch the team will continue with the countdown until t seco arstechnica sciguyspace given so many other company are depending on this mission it is getting even more scru http t co gby nacrsn launching many small satellite for wide range of customer tomorrow excited about offering low cost access to o http t co w u qduh gerberkawasaki they are part of the solution but require lot of fresh water amp land we may need something that s http t co fwxsmo f t erdayastronaut spacex sn http t co kwtvwm mbn erdayastronaut it s good path for fully renewable rocket energy so solves part of problem but longer chain hyd http t co xugrzqijzx detail next week am donating m towards prize for best carbon capture technology kristennetten spacex eliburton_ evafoxu janeidyeve austinbarnard elonsbrain jason patterson astrojordy renatakonkoly pretty much elonsworld tesla spacex neuralink boringcompany eashanmisra that would probably mean civilization is doing gr http t co siar ifvwc laurenrow evafoxu renatakonkoly sarapolak_cz seanmmitchell delayslater elonsworld johnnacrider http t co vv tthkr teslatino tesla absolutely they rock u f rt spacex falcon launch starlink to orbit the eighth launch and landing of this booster http t co zyj zddfql kellyreid the rate limiting part or process in cell production is constantly changing francissuarez cityofmiami car amp truck stuck in traffic generate megaton of toxic gas amp particulate but http t co jcqiacxjno rationaletienne owensparks_ tesla with our giant casting machine we are literally trying to make full size car http t co chgqmaiyts lexfridman tegmark tegmark is an exceptionally smart amp good human owensparks_ the best manufacturing technology is in ultra high volume industry like food amp beverage some medical eg syrinx amp toy battery cell production is the fundamental rate limiter slowing down sustainable energy future very important pr http t co ybabezxcv p_ferragu looking into this no question that fsd should be viewed a reasonably valuable when doing trade in tobyliiiiiiiiii erdayastronaut for sure erdayastronaut glad you re ok virgin_orbit congratulation teslaownerssv this is good one mrbeastyt i whistle dmc_ryan c_r_h_m tesla cybertruck doesn t need garage dmc_ryan tesla it will be awesome owenshift good point signalapp your server side code is doing too much wikipedia happy birthday wikipedia so glad you exist theonion guess you been watching cobra kai superclusterhq w ki fallout new texas breedlove benmezrich only chuck norris can divide by zero cerberu breedlove benmezrich good point breedlove benmezrich the thing we call money is just an information system for labor allocation what actuall http t co jz zmqgbo monty python is amazing http t co ujq iwt rationaletienne tobyliiiiiiiiii erdayastronaut they sure can twist the knife in that show tobyliiiiiiiiii erdayastronaut probably wise erdayastronaut we re making major improvement to ease of engine swap need to be few hour at most ppathole johnkrausphotos spacex two of the engine need slight repair so will be switched out johnkrausphotos spacex nice shot realomarabdalah we don t have high school internship but please apply when you re in college skorusark prototype are easy volume production is hard positive cash flow is excruciating tesla physic rt spacex splashdown of dragon confirmed completing spacex s st space_station resupply mission and the first return of cargo resupp erdayastronaut detanking amp inspection now good progress towards our hop in amp go to mar goal all three static fire completed amp no ruds justpaulinelol erdayastronaut spacex wow lot ha happened in year officialjlipper fair enough haha http t co ho ygxas nasaspaceflight sea shanty tiktok take it to new level with actual pirate ship connectdotstoo sure today at spacex is about practicing starship engine start ship is held down by massive pin while engine are fir http t co qtiiwlxxpl tesmanian_com a promised legalize comedy lvladimirovbg you can steal our name logo amp we probably won t sue you arstechnica sciguyspace we re just trying to get people to mar help would be appreciated spacex space_station one day we will get camera up there that also show the star field in the background rt spacex separation confirmed dragon performing departure burn to move away from the space_station http t co g ohwvnxj lexfridman suicide is more than double homicide http t co mvwgps uqe lexfridman absolutely hey you yeah you queen you re gonna make it u f u f http t co lrqdirbiyd theoldmanpar djsnm machinepix hate to say it but might be true machinepix the robot future is coming wonderofscience physicsj km every millisecond but there are time i wish it were faster http t co tkkruvgbth http t co ocy gfryvn iamdevloper http t co bkkeiiicye mu protec u f yoda http t co dvhg ntku roscosmos u e u d u u b u b u u u b u u u e u b u u f u u d rationaletienne thebabylonbee this is an important distinction valaafshar much more than this amp increasing rapidly codingmark flcnhvy it is archillect once in while something happens that is even better than we imagined skorusark the factory is the product austinteslaclub thebabylonbee probably commenting on signalapp will do more ppathole i bought the replacement glass from junkyard for they re great place to get spare part thebabylonbee lot of people are going to be super unhappy with west coast high tech a the de facto arbiter of free speech alexandersibert signalapp already donated to signal year ago will donate more benmezrich i am primarily trying to advance two cause sustainable energy amp extending life consciousness beyond e http t co vybfavhkys song_wooseok gerberkawasaki benmezrich u f u f ragazaga spacepadreisle maybe tesla ai day later this year spacepadreisle the prancing pony boredelonmusk u f u f erigganewmoney u f mayemusk it s true glenn x woketopiansa yes but not for long woketopiansa yeah they seemed optimistic too my year old son saxon said he feel like will be good year i agree let u all make it so erdayastronaut spacex wa also thinking that spacex boca should hold fun party and give tour for the community from time to time erdayastronaut spacex i super support public space around our production amp launch site wherever it can be done http t co wmqwct wfh christo sean erdayastronaut spacex that too sean erdayastronaut spacex catapult high into the air amp land on the roof with base jumping parachute the only way to travel erdayastronaut spacex that s actually our restaurant but spacex is building futuristic bar at the top of the h http t co z umtgsaoi techreview and increase fun hopefully benmezrich me neither tonychomrmagic teslaenergy one of the best tesla solar roof installation demigod no but maybe one day ppathole engineers_feed yes that would be the best way to do it large solar field or reactor is needed for po http t co ph x plnam engineers_feed his sick beat http t co pbsgffzrp flcnhvy probably le than few dozen primary decision maker technically only three erdayastronaut lexfridman or at least the option for verification so that the public can ascribe more credibilit http t co ju wemvsjg launch underway http t co wbk zz fqx btw critical feedback is always super appreciated a well a way to donate money that really make difference way harder than it seems eugenelee engineers_feed yup engineers_feed indirectly an electric rocket is possible by using electricity to convert co h o gt ch o this http t co fqzotwqt d engineers_feed not to get to orbit unfortunately in space photon emission powered by matter antimatter annihila http t co y po opqn teslarati residentsponge this will be hard to make a it isn t like any other vehicle thfromourstar playing the long game ashleevance true id_aa_carmack i hope so wing don t work on the moon at all and def not well on mar also no runway ericrweinstein hamiltonians have v the potential of langrangians and play http t co ja z mre teslaownerssv well back to work teslaownerssv how strange use signal thehackersnews ya don t say reminds me of this timeless classic http t co gq wayotir univercurious fast water with tiny rock flcnhvy yes and then occam s razor is actually third most likely a seen from an external observer not the participant the most entertaining outcome is the most likely ppathole dumb and dumber is great movie tho this is called the domino effect http t co qpbew rvm dtrford austinbarnard alexsvanart ercxspace spceenthusiast spacexvision tomdixondesign spacex http t co e garryvs because of the large footprint it may seem flat but actually range up to story tall snow falling on giga berlin http t co etxmtyp hg rgvaerialphotos spacex yes gfilche u f flcnhvy tesla is responsible for of all the personal amp professional pain in my life combined but it wa worth it so proud of the tesla team for achieving this major milestone at the start of tesla i thought we had optimistica http t co wlybpkmzj rt tesla in we produced and delivered half million car huge thanks to all those who made this possible http t co q vz rmhd newscientist um we have giant fusion reactor in the sky that work with no maintenance comma_ai tesla full self driving will work at safety level well above that of the average driver this year of t http t co jmabjuqfdf ppathole dojo isn t needed but will make self driving better it isn t enough to be safer than human driver aut http t co dyy rmhgil ignore the heading great interview with mathias d pfner http t co ewnahc ch jack u f the greatest gatsby u f flcnhvy inspired by the ballet smvllstvrs ercxspace rocket motion is primarily vertical so you want the top open jack let s make the roaring s again erdayastronaut might be few lump along the way erdayastronaut flcnhvy ercxspace production is hard prototype are easy building starship to create s http t co xjlljpljbp icannot_enough aloysiusfekete rationaletienne biogirl ercxspace exactly rexchapman haha erdayastronaut flcnhvy ercxspace sn will press ch header tank with helium long term solution is under debate http t co kawwol jg flabellina rationaletienne biogirl ercxspace yes rationaletienne biogirl ercxspace leg would certainly work but best part is no part best step is no step flcnhvy ercxspace yes flcnhvy ercxspace save mass amp cost of leg amp enables immediate repositioning of booster on to launch mount rea http t co jwdcjarymj ercxspace we re going to try to catch the super heavy booster with the launch tower arm using the grid fin to take the load snake head dog had my undivided attention until winder head ostrich came gliding through all nonchalant http t co dtpmdm tqp tesmanian_com seems odd that the opposition group is from bmw s home state of baveria that s very far from brande http t co m dyvli cx tesmanian_com this is very sensible opposition from anywhere cannot mean no progress everywhere harsimranbansal literally tobyliiiiiiiiii are we sure this is real destiny destiny no escaping that for me all tesla car delivered in the final three day of the year will get three month of the full self driving option http t co ppaereeo y spacenews_inc and mark dankberg this action is wack not dank reza_zadeh le ashleevance westworld the last kingdom show is great jayson absolutely will be text amp visualization but could add voice too sfs_central even cheese is made of cake karpathy if they don t love u we re in deep trouble not everything is made of cake http t co omacmyqawx chicago_glenn true haha such weird game when you think about it http t co mrvvzmekg this is not cgi http t co voive vpr bensullins we need ui overhaul maldivawow codingmark tesla no these are just incremental improvement to the production codebase fsd build is http t co puoramgo spacenews_inc starlink pose hazard to viasat s profit more like it stop the sneaky move charlie ergen entertainment will be critical when car drive themselves kimpaquette just meeting with larry ellison to seek some advice back working on tesla end of quarter tomorrow richierichhhhh_ absolutely what should tesla do with in car gaming in an autonomous world ppathole wsj absolutely tesmanian_com taste of the future try playing polytopia in your tesla great game multiplayer online version coming soon wsj focus on making product amp service people truly love so that the total economic pie is bigger instead of en http t co qe jcezytq thatdesignguy m_siphiw moosuraj tesla roughly of part in tesla roadster were unique not in any other pro http t co r yb cmrb laurenrow karpathy yes engineers_feed very important teslaownerssv lexfridman ok service might be able to do this will check teslaownerssv lexfridman you mean install the external speaker on earlier car that don t have it gunmtlm lexfridman no but definitely this year lexfridman good point conexionspacial spacecoast_stve nasaspaceflight interesting flcnhvy liz ha always done great interview spacecoast_stve nasaspaceflight falcon wa of successful orbital launch in but maybe majority of pa http t co pmgu vhqez karpathy vaccine are just the start it s also capable in theory of curing almost anything turn medicine into http t co uruvc qf jgrano teslatruckclub jeremyjudkins jpuconn jchybow dirtytesla yes teslatruckclub jeremyjudkins jpuconn jchybow dirtytesla we will offer multiple display option ivanescobosa erdayastronaut teslaownerssv few more revision needed probably beta or erdayastronaut teslaownerssv sure erdayastronaut teslaownerssv haha ok kkvr tesla_adri teslaownerssv there are subtle important difference between u amp canada traffic rule bu http t co xzx ppvl tesla_adri teslaownerssv yes teslaownerssv we need match other traffic speed setting stevewoz definitely flcnhvy h _extrachars it s step in that direction arm arm it s one u f or u f if you don t have car with pedestrian speaker we couldn t get everything done in http t co hkza ohe westcoastbill the writing on cobra kai is sick u f c afloathickory haha i will save you the nightmare of seeing me in those short h _extrachars you can upload custom music sound jgrano unfortunately pedestrian speaker is needed otherwise no external sound generator except actual horn change your horn sound to u f u f d u f b u f or holiday jingle with latest tesla software update merry christmas amp happy holiday u f http t co uk nspwr r tesmanian_com great game harsimranbansal heydave it will most likely make sense for starlink to go public once the revenue growth is reasonably predictable heydave engineering design amp general company operation absorb vast majority of my mind amp are the fundamental li http t co vxv ghumbd elonsworld real_futurist lexfridman yes flcnhvy marcushousegame few month marcushousegame coming soon olhzn minor trevormahlmann yeah story rocket turn off it engine amp doe controlled fall http t co hcrgyx rn erdayastronaut yup we re just ironing out few bug to tesla owner taking delivery in the final day of year your support is super appreciated deepmind nature frictionless ai what could possibly go wrong heydave good idea wintonark during the darkest day of the model program i reached out to tim cook to discus the possibility of http t co optz urne wintonark strange if true tesla already us iron phosphate for medium range car made in our shanghai facto http t co milwsilvrt archillect sparta s reply to macedon lizclaman tesla foxbusiness clamancountdown hi liz thanks to everyone who worked so hard to make tesla successful my heart go out to you teslaownerssv indeed kristennetten it wa seriously twisted affair but all s that end well mkbhd they are although it s kind low key tesla supercharger are being made accessible to other electric car rt spacex photo from yesterday s launch and landing u http t co whx bx http t co ojfysuaxo michael_saylor are such large transaction even possible u u fe f i love all u crazy ppl out there u u fe f bizzzzzyd you have point sigh pcgamer great game flcnhvy pretty much the main value of college used to be hanging out having pseudo intellectual conversation amp http t co s ybscm p come for the comment stay for the meme u f padgeuk absolutely we will release fsd subscription early next year one word doge bitcoin is almost a b a fiat money hajek_miloslav great nail amp lipstick mightytesla kristennetten lauren_kalo sawyermerritt jasondebolt codingmark delayslater babytesla http t co dvwzgtppda http t co ebojgshvrq callowaytech sound about right lord edge xdreamcoding frank_thelen nice branding just kidding who need safe word anyway bitcoin is my safe word rt spacex falcon s first stage ha landed on landing zone http t co mr qv goc rt spacex liftoff http t co ag rar qnp spacex standing down for today to inspect rocket hopefully launching tomorrow spacex pressure is slightly high in upper stage liquid oxygen tank review underway tesla__mania i am hoping to be back next month nytimes very impressive mission by china spacex last launch of coming up teslaownerssv astonmartin tesla he wa indeed quite grumpy but we did not actually know what we were doing so he had point teslaownerssv it will get absurdly good tesla ai autopilot engineering is awesome there s some great ai out ther http t co v muheapoq star light star bright http t co cetazsxco teslarati ericralph this is incorrect thebabylonbee u f u f pcgamer but it is visually stunning amp playability is good pcgamer t shirt being better armor than kevlar chest plate doesn t make sense in the absence of magic also w http t co iydkttvsqk cleantechnica oh and umm http t co jtg ercy cleantechnica i absolutely support trans but all these pronoun are an esthetic nightmare erdayastronaut flightclubio the raptor were well below max thrust or the ship would have blown through the altit http t co ikcrzpyxtr erdayastronaut flightclubio far from fully loaded but we were going slow or the ship would have gone crazy high far with three engine picot_john cyberpunkgame it s good to great game imo but improving what may seem like mere surface detail woul http t co zm sz cbzg truth_tesla tesmanian_com perhaps slightly more confident but it s essential to view this a output v time a http t co rkfvjvotse tesmanian_com dankesch n brandenburg und gr nheide austinbarnard lrocket sure hope that future doesn t come to pas tesmanian_com giga berlin brandenburg will be the first to use our new structural pack architecture world s http t co wesafntz dota funny cyberpunkgame original deus ex wa incredible human revolution wa also great cyberpunkgame the objective reality is that it is impossible to run an advanced game well on old hardware this is http t co zo qsu wt rt spacex starship landing flip maneuver http t co qud hwz cx theonion thebabylonbee ascent to the heaven http t co oggsw yrz engineers_feed u f ppathole cyberpunkgame yeah briefly seems pretty good i picked nomad so start wa little slow but pick up http t co nllipnbmxr zwiebelbach its_menieb cyberpunkgame http t co aayypcpp i hehe http t co sklmil oxt cyberpunkgame http t co rhksb xqr cyberpunkgame http t co kmg c qf h http t co sdmxkbhdzd http t co qbnt dused rt spacex falcon launch sxm to orbit completing spacex s th launch this year http t co zrur ewnlv quantamagazine init void ppathole ercxspace spacex cooling haha ppathole ercxspace spacex i still have soft spot in my heart for transpiration cooking in theory it would u http t co sschdkfad ercxspace spacex ship leeward side will be bare metal windward will have black hexagonal heat shield tile rt pockn_cg can t wait elonmusk spacex spacexstarship http t co ynetmywfvg conexionspacial pockn_cg yes spacepadreisle spacex agreed should be preserved in memory of sn rt spacex photo from starship sn s flight test u http t co whx bx http t co ozlyf qrf nasaspaceflight bocachicagal exactly woohoo erdayastronaut spacex sn did great even reaching apogee would ve been great so controlling all way to putting http t co xwm fxmx r thank you south texas for your support this is the gateway to mar life the universe and everything http t co zczinfc u erdayastronaut yeah engine did great mar here we come fuel header tank pressure wa low during landing burn causing touchdown velocity to be high amp rud but we got all http t co wgjvdsahmf successful ascent switchover to header tank amp precise flap control to landing point http t co iiraiesg m thebabylonbee u f wonderofscience near orbital space is the fastest way to travel long distance on earth spacex space_station it s called the space station but it s actually moving around earth at time the spee http t co vyvivrtzsa rt spacex time lapse of dragon on approach two dragon now docked to the space_station http t co i jbmc o so long and thanks for the orifice alien message decrypted spacex probably chance of completing all mission objective spacex hopefully flying tomorrow nasaspaceflight yup rt nasa success at pm et spacex s upgraded dragon cargo spacecraft autonomously docked to the space_station u f this is the st out on the pad in south texas http t co rcyoxxptc rt space_station the station and the spacex dragon are going into an orbital night period before the pm et docking the crewdragon space_station spacex wow station look amazing rt nasa good morning earthling u u fe f the journey continues watch a the nasa spacex cargo resupply mission dock to the space_statio nasaspaceflight knock knock singing telegram lexfridman carrying even more symbiotic bacteria trillion than cell adamklotz_ lexfridman yes lexfridman we are mobile cell colony  rt spacex tracking footage from helicopter of today s falcon launch off lc http t co ryvzrts rt erdayastronaut there s something genuinely magical about seeing starship sn in person boca chica is beautiful quiet and serine t im gespr ch mit mathias d pfner http t co bqa piaonk rt spacex dragon separation confirmed the spacecraft is on it way to the space_station autonomous docking tomorrow at approximately rt spacex falcon booster ha landed on the of course i still love you droneship http t co cnl t lq g rt spacex liftoff http t co pgk cph e haya e_jaxa jaxa_en congratulation haya e_jaxa congratulation rdanglephoto spacex teslarati yes it doe rt boringcompany tunnel rave http t co d jkoiasy rationaletienne and no toilet paper u f u f watch demolition man prometheus unbound rt spacex the falcon booster supporting this mission previously launched nasa astronaut bob behnken and doug hurley to the space_sta ercxspace spacex nasaspaceflight erdayastronaut marcushousegame felixschlang not bad theonion it wa beast compared to the vic tesmanian_com award accepted on behalf of the great people at tesla spacex neuralink amp boring co much of what people think of an science is actually engineering eg no such thing a rocket scientist only roc http t co w uvcryn science is discovering the essential truth about what exists in the universe engineering is about creating thing http t co xmqtbrldyp justpaulinelol it doe get bit cold at night engineers_feed paint make hell of difference deepmind congrats lrocket thanks for everything you did to help build spacex some of the best memory ever rgvaerialphotos it will be real soon marcushousegame bcart nextspaceflight nasaspaceflight starship leg are one of the hardest problem external http t co csizk sevu bcart nextspaceflight nasaspaceflight static fire is not risky from build site but we need to clear the build site for early flight nextspaceflight nasaspaceflight just static fire tomorrow flight no earlier than wednesday ercxspace spacex it will have landing leg eugenelee ppathole karpathy yes very sad news tony wa great ppathole karpathy for second there i thought that wa pic of thanos haha poppa_bearq id_aa_carmack yeah truncate zero amp then round dburkland id_aa_carmack probably going to wider beta in week id_aa_carmack fp with least important digit truncated so it feel like fp is what we re betting on for training with dojo id_aa_carmack int for almost all heavy lifting in inference work great thisisjendoll but actually http t co lb pksayi thisisjendoll http t co mmg b b z happy thanksgiving teslaownerssv johneg teslachillmode unplgd mfrunker ccteslaclub hopefully next month johneg teslachillmode unplgd mfrunker ccteslaclub ok overall air suspension height amp damping algorithm is http t co opgo vd y karpathy haha true humanoidhistory the promise is greatly needed evafoxu we will have special color for new roadster a we did for the original rationaletienne thebabylonbee u f u f thebabylonbee is savage u f u f worldandscience if you ever wondered where we came from this is life leader launch so more risk than normal http t co etfp ielrf teslatino flcnhvy thesheetztweetz yes but only slightly filled aholstein flcnhvy thesheetztweetz this is subject of much debate flcnhvy thesheetztweetz major upgrade are slated for sn flcnhvy thesheetztweetz many small improvement but overall similar wiring is more robust engine are more mat http t co ofbmy n thesheetztweetz but that s why we have sn amp sn thesheetztweetz lot of thing need to go right so maybe chance good starship sn static fire aiming for first km k ft altitude flight next week goal are to test engin http t co ojorqnhb erdayastronaut marcushousegame maybe start on that year from now depends on how starship progress go rationaletienne marcushousegame not yet starshipfairing marcushousegame not bad we will definitely need more engine if we make the cargo bay all propel http t co j uvultatv marcushousegame rapid amp complete rocket reuse low cost propellant orbital refilling amp propellant production at d http t co umyur yshy erdayastronaut ppathole teslarati teslaroadtrip yes ppathole teslarati teslaroadtrip we re still far from simply video in control out the biggest game changer cu http t co nb hl gzlx teslarati teslaroadtrip fsd beta coming out in few day improvement should be significant xhnews exciting mission vincent tesla wow liv_boeree yea tomorrow will be the th flight of this rocket landing on droneship of course i still love you johnnacrider teslaownerssv delayslater sure futurejurvetson flcnhvy true rationaletienne heydave philwhln we have quiet queue of product to build better do new roadster at some point u f c rationaletienne shycybertruck fate love irony but hate hypocrisy rt nasa booster separation second engine start and fairing separation a the u s european sentinel michael freilich ocean observing icannot_enough heydave yes u f flcnhvy our data center wa named skynet a joke over year ago might have been tempting fate heydave philwhln tesla is vehicle for creating amp producing many useful product nasaspaceflight largest cast titanium part in the world no heat shielding needed landing at vandenberg afb in california http t co j gccjp tobyliiiiiiiiii spacex nasa nasa_lsp nasajpl esa actually off to the side so it doesn t take out the launch http t co fr aucywco tobyliiiiiiiiii spacex nasa nasa_lsp nasajpl esa where it should be philwhln heydave because i am not an investor tesla is definitely not the only good company but investing is n http t co wduz wnuin well almost anything http t co ffpvdsqruc quite the day ahead http t co apzngmo k rt spacex crew s view of earth during dragon s flight to the space_station http t co lqw tympb nasaaero lockheedmartin now this is what you d call pointy cleantechnica cool astro_fonseca space_station wonderofscience virtualastro they re moving at time the speed of sound but it feel like nothing worldandscience http t co xajan j zr vicentes evafoxu ppathole mirojurcevic tashaark space_station there will always be upgrade evafoxu ppathole mirojurcevic tashaark space_station it will be better than human vision by quite margin enn_nafnlaus mirojurcevic tashaark space_station reality look like strange ghost world at radar wavelength http t co dmgov rcnu ppathole mirojurcevic tashaark space_station exactly mirojurcevic tashaark this is misperception spacex developed amp continues to use lidar for dragon docking with http t co i bwgjlqp philippecroizon spacex one day we will fly you on starship peter_j_beck well done hisdirtremoves spacex i can t comment on turbopump internal detail but you re roughly in the ballpark wow roc http t co srlfg fg tashaark to be clear this wa just an xpeng problem other company in china have not done this isaaclatterell tashaark karpathy andrej is awesome but it should be said that we have very talented autopilot http t co ocngk ey spacetouristuk tashaark yeah they stole apple s code too http t co gy dt pq n tashaark they have an old version of our software amp don t have our nn inference computer levie wild time rocketlab congrats slashdot theonion id_aa_carmack yup flcnhvy change out few part otherwise fine forbes caution strongly advised with spacs adamkiotz suvitruf archillect sure suvitruf archillect haha sexy cropping champion of all time tweetmenima teslaownerssv if next week s release look good we will widen beta justpaulinelol teslaownerssv unfortunately there are too many rule around liquor distribution even in the u http t co kvhlbuee u teslaownerssv next week s release is special lot of fundamental improvement both important bug fix amp entire n http t co bv stdwngj westcoastbill spacex year amp billion wow owensparks_ flcnhvy tesla safety is our primary design goal ppathole astrojordy flcnhvy fully astronomiaum let the martian decide their own future shifthappends tesla lot of my brain space is spent dealing with both unit astronomiaum terraforming will be too slow to be relevant in our lifetime however we can establish human base http t co uygaae g r ppathole xdreamcoding garyblack that is certainly the intention xdreamcoding garyblack http t co frezwjcwna garyblack the only publicly traded stock i own is tesla garyblack wise word from bogle the point of company is product amp service they have no point in amp of thems http t co encu cblpy teslaownerssv astrojordy flcnhvy no just mild cold same with my bro def had cov though pc lt mean viral http t co uysanpqtfi astronomiaum life in glass dome at first eventually terraformed to support life like earth astrojordy flcnhvy yeah daywalker_xd astronomiaum i wa going to say sim but that seemed too obvious haha astronomiaum deveras flcnhvy and case with high non infectious ct should quarantine for few day while getting another test seco http t co oalvzwcmio tobyliiiiiiiiii so many thing you want amp some you didn t know you wanted nichegamer maybe little mercy http t co ie hoihr tesla holiday software release is u f u f staceyr maisie_williams u f f cobra kai is deep cut archillect it s all cake amp someone took bite nichegamer there is such thing a too much sentience deus ex machine learning http t co zsyalvczx peterrhague it s designed to make life multiplanetary otherwise extreme overkill for mere earth sector activity http t co yjltt peeu kristennetten royalsociety more like he gave it his blessing it wa sort of groundswell of those who believed http t co fwk zihfeg nullius in verba royalsociety westcoastbill indeed reflexfunds nickidk pcgamer dojo doge ppathole erdayastronaut rweb yeah look like marginal cost of launch will be le than m for more than http t co rnsj fkdxt speculawyer erdayastronaut rweb exactly erdayastronaut rweb merlin is strong local maximum design but kerosene is suboptimal fuel no matter what http t co joetyskgp parstalberg josh_bickett icannot_enough erdayastronaut rweb yes but from visiting american ah the irony is just too much josh_bickett icannot_enough erdayastronaut rweb yeah pcr ct wa unequivocal at lt doesn t matter what m http t co yjdogokx q flcnhvy lugg s pcgamer maybe making some notable change will wait until figurative amp literal dust settle icannot_enough erdayastronaut rweb pretty close definitely feel u f af if i take dayquil frankly this wa one http t co hj thlr n lugg s pcgamer avionics cable moving to steel pipe shield amp adding water cooled steel pipe to test pad lugg s pcgamer about sec after starting engine martyte covering concrete below shattered sending blade of http t co vilv s yo erdayastronaut rweb the most amazing thing about rocket engine is that they sometimes don t blow up the http t co euxoocfr t pcgamer we should just count the atom at this point djsnm erdayastronaut charlesnotrumps rweb absolutely production testing of rocket engine is over of http t co tv pixzp i erdayastronaut charlesnotrumps rweb our first merlin engine design wa really bad tbh nothing worked well http t co y njrepvtc billhuang johnnacrider timmerenginerd jack maybe i just love irony haha greenisclutch johnnacrider timmerenginerd jack they re on their way hopefully more teslaquila next month chrisg_nsf special permission received from stonecutter guild http t co sw rbm srb johnnacrider timmerenginerd jack fate u f irony jack well said trylolli maisie_williams u f b u f b http t co uwerahxuev erdayastronaut rweb damn that s not easy i spent quite bit of time looking at russian ukrainian engine they re good ppathole michaelmina_lab yes rt spacex docking confirmed crew dragon ha arrived at the space_station maisie_williams u f b toss bitcoin to ur witcher u f b kristennetten u f rt nasa u f enter the crew dragon at p m est p m utc the nasa spacex crew astronaut give you live tour of their space whatsupfranks michaelmina_lab curevac moderna amp few others tesla make the machine curevac us to go from kn http t co kveprq rl michaelmina_lab creating synthetic mrna for cure vaccine is the future of medicine imo turn it mostly into http t co yp djawiks gaertner_anne neuro_skeptic dresdentea judith_herbers haha michaelmina_lab great thread samtalkstesla i m ok thanks for asking no symptom for past few day apart from fatigue unless something chang http t co s eo xb sf u u fe f launch in minute flcnhvy yeah with cooling channel integrated into the chamber wall the same propellant is used either for abort or for orbital maneuvering a one use obviates the other dragon can also hover amp land propulsively but we use the parachute for maximum safety http t co mr vfiqwwf thruster are integrated with spacecraft enabling abort capability all the way to abort for increased safety http t co krohkor ae rt nasa what song would you play on your ride out to the launch pad launchamerica http t co vzhxun yie rt spacex dragon ha completed flight to and from the space_station it wa designed from the beginning with human spaceflight in mi rt spacex dragon is the only spacecraft currently flying capable of returning significant amount of cargo to earth and is the first priv rt spacex spacex s custom tailored suit route the communication and cooling system and protect the crew in the event of cabin depressu rt nasa live now we are ready to launchamerica are you u f watch coverage of the nasa spacex crew mission liftoff is at pm et rt spacex watch falcon launch crew dragon on it first operational mission to the space_station with astronaut on board u http t c tboneagnoobs ok rt spacex all system are go for tonight s launch at p m est of crew dragon s first operational mission with four astronaut on boa klotzadam ppathole astrojordy erujabidi yeah i feel pretty normal no symptom right now last week i had sym http t co gl mhrqjxy ppathole astrojordy erujabidi doing test from several different lab same time of day administered by rn amp am http t co hajhh la q ppathole mario_livio both obv insanely great too bad they had this pointless argument astronaut launch today http t co fazzgss c rt nasa u f astro_soichi ha message for boy and girl in japan space is waiting in this tumblr spotlight jaxa_en astronaut so rt nasa this week u f nasa s spacex crew astronaut arrive at nasakennedy ahead of launch u f our nasapersevere rover mark day rt astro_soichi spacex nasa crew just finished final dress rehearsal getting ready for saturday launch behind me is real dragon mario_livio no kid though mario_livio hell of wig collection too michaelmina_lab it would be great if lab could give people this level of granular feedback in their result rt michaelmina_lab elonmusk great question it s more complex question and depends on why the test is being used ie do you want to kn worth reading this thread if you re curious about rona testing http t co fa kd eba stonkmanup michaelmina_lab they should be imo if you get blood pressure test they tell you the number not ju http t co twl dgurmk astrojordy erujabidi little up amp down feel just like regular cold but more body achy amp cloudy head than co http t co ihvpeox m michaelmina_lab in your opinion at what ct number for the cov n gene should pcr test probably be regarded a http t co emuxlx g michaelmina_lab stendeck teslaownerssv cool but please be super cautious expect two step forward one back lot of new code wa merged austinbarnard just scratch we can buff it out erujabidi am getting wildly different result from different lab but most likely i have moderate case of covid http t co xlbahahjoj whatsupfranks lexfridman npc all the way up lexfridman ahem unless you re on dmt law of thermodynamics you can t win you can t break even you can t stop playing shake fist at entropy realnattastic big expansion of beta program in to week robintosh_nunez ppathole interesting my thursday night saliva sample came back today with n gene unique to cov http t co tm c otdt icannot_enough johnnacrider what s honey slashdot feel that way whatsupfranks bluemoondance stephenking this seems accurate bluemoondance stephenking cold symptom are gone for now u f u f u f ab stephenking there are degree of po mrsammy_h pelagicbird max_roi rossy heneghan make lot of sense hilarious that he ha to clarify that he r http t co mlxngcsa t whatsupfranks the number of pcr amplification cycle required to detect the virus is rough indicator of your vir http t co mn hueq mrsammy_h max_roi rossy this great reference worth read case closed http t co puyijcadd soon http t co mwopr w kk ppathole fwiw lab i just spoke to think below is accurate to get dicey amp above is b will talk to http t co k wxq yt lab i just spoke to said cov pcr detection n amp n gene below cycle is reliable amp above cycle is not rationaletienne ryaneshea note this is not the spike protein they don t consider that reliable rationaletienne ryaneshea just spoke directly to testing lab their main pcr search is for the n gene unique http t co x odvdauo ppathole strange ryaneshea possible explanation for the dramatic decline in cold amp flu prevalence v prior year if someone come http t co gmlvewwxdp ryaneshea moreover lower the true prevalence the higher the false positive number will be this sound obvious http t co xvabeklh q ryaneshea from http t co z vrpb c http t co xtsukcc tl dana_e_morgan sure is would be great to hear from people who know lot about the pcr testing industry what s the approximate false posi http t co lvc nikql clarecraigpath interesting john_beans dirtytesla interesting what is the general population no knowledge of symptom accuracy of sars cov pcr test amp is it possible to gene http t co vbiu d uq ppathole cleantechnica good pcr test should identify if i have the cov spike protein although i have heard s http t co m vj gaofs justpaulinelol cleantechnica mild sniffle amp cough amp slight fever past few day right now no symptom although i did take nyquil cleantechnica technically i tested positive then negative twice then positive again so elon musk test negati http t co ohta s l the carousel turn ever faster joeingeneral andrewbogut yup ajtourville exactly janeidyeve symptom of typical cold nothing unusual so far blkmdl if it s happening to me it s happening to others i m getting pcr test from separate lab result will take about hour something extremely bogus is going on wa tested for covid four time today two test came back negative two cam http t co z v u zcf austinbarnard burst disk worked so vehicle appears to be ok we ll have to swap out at least one of the engine tobyliiiiiiiiii spacepadreisle austinbarnard maybe melted an engine preburner or fuel hot gas manifold whatev http t co elyx pjlg austinbarnard we lost vehicle pneumatics reason unknown at present liquid oxygen header tank pressure is risin http t co szc hnti drphiltill u f u f u f d rt teslarati tesla top list of s most attractive employer for u engineering student http t co kknyqlet o astronaut fly to space_station on sat night from cape first operational flight of crew dragon http t co uzcgikcikb cardoso luck is the best superpower rt spacex thank you to all those who have served and sacrificed veteransday http t co u kn fzpj rt spacex crew access arm swing into place http t co xaimd nljv hiromichimizuno yes kristennetten it is an honor that they would choose to work with me i strive to ensure that the company enable http t co otdwcsk ck such privilege to work with people i like amp respect so much i feel blessed rt commercial_crew the flight readiness review for the crew mission to the space_station ha concluded and nasa and spacex are go t rt spacex falcon and crew dragon vertical on launch complex http t co hbvuhwv ab djsnm davidhuber nickhenning d spacex ercxspace neopork c_bass d caspar_stanley spacexvision felixschlang probably teslany tesla happy to see this samtalkstesla tesla i do expect this to become an important product for the world but probably not financially material for tesla nickhenning d spacex ercxspace neopork c_bass d caspar_stanley spacexvision felixschlang there s no entry http t co ncafknfzlc samtalkstesla tesla tesla make the rna bioreactor that can make vaccine cure curevac ha version in use http t co opouohyamu rt spacex crew dragon and falcon in the hangar at launch complex ahead of launching four astronaut to the space_station liftoff teslatino checking pcgamer i just hope this game doesn t twist itself to tedium out of fear of being canceled rt boringcompany rumor ha it that austin chalk is geologically one of best soil for tunneling want to find out austin job now avai http t co d i w wnkg yes you can have my damn cookie should be browser setting teslaownerssv tesla thanks to lot of great autopilot ai hardware amp software engineer at tesla bbctech for sure mkbhd vyyyper will be worth it mkbhd exactly model owner mkbhd sure mkbhd actually it s still there http t co zlkc fc d ed_spartan_ tesla nykchannel wait until you see what cybertruck will do mkbhd this is accidental will be back shortly rt tesla k supercharger and counting http t co urudyt eui erdayastronaut renatakonkoly spacenews_inc am hoping to change booster design to land back on launch mount with http t co hprgptt ru vasu amyceskridge chip ha temp sensor amp automatically maintains safe temp reganlovetesla renatakonkoly spacenews_inc enough already on my plate amp tesla s maybe one day will do prototy http t co tgpwej wqa amyceskridge neuralink won t overclock the brain it will transfer processing to the supercomputer extension of yo http t co nbybbfx t flcnhvy ppathole cleantechnica we rewrote all labeling software for d very different from labeling single phot http t co mltbdsquty ppathole cleantechnica version is about year away renatakonkoly spacenews_inc it would appear that their calculation were incorrect spacenews_inc china understands the profound importance of reusability the era of expendable rocket will soon be over cleantechnica u u fe f u u fe f tesla autopilot ai team u u fe f u u fe f cleantechnica good explanation d is essential for dynamically occluded object especially in large intersection http t co ooj pqayhj rt archillect http t co u fnqfhr the phantom of the opera is here inside your mind linustech spacexstarlink spacex u f e u f e u f ppathole just looking for problem solver who get thing done with high sense of urgency don t care if or where they went to school when sending your resume please describe few of the hardest problem you solved amp exactly how you solved them new banner is needed neither hard left nor right ppathole another fine day in the simulation nereide faraday invented the electric motor tesla the commutator free three phase ac induction motor in other http t co cqo rjlrbv nereide maxwell wa amazing should have more recognition tesla motor inc wa almost called faraday a it to http t co y kmcpgk is ten time better than u f rt spacex deployment of gps iii confirmed http t co fcfjrcwmti rt spacex falcon s first stage land on the of course i still love you droneship http t co hd ibpx t rt spacex liftoff http t co li o tnml linustech spacexstarlink spacex awaiting approval from canadian authority recruiting ace engineer for giga berlin will interview in person tomorrow on site send resume to gun tesla com chad_hurley realdonaldtrump kanyewest stop being chad chad_hurley realdonaldtrump kanyewest uh chad wtf techamazing einstein wa great but did not succeed at engineering and he tried jtrevorchapman yeah that will be relatively easy a so few user out in the ocean icannot_enough zainraz vincent jonerlichman yes although i didn t expect the stock to rise so much so http t co tmw phbef futurejurvetson ppathole super appreciate your support steve that convertible loan gave u month of runway http t co ej iovx w zainraz vincent jonerlichman closest we got wa about month the model ramp wa extreme stress amp pa http t co wuhekj hio vincent jonerlichman i put in my last money even though i thought we would still fail but it wa eithe http t co bgkez d jonerlichman that funding round completed pm on christmas eve in last hour of last day possible a investo http t co umfgjnkoxm josh_bickett ppathole yes ppathole lowering starlink terminal cost which may sound rather pedestrian is actually our most difficult technical challenge itshamzahkhan a soon a we get regulatory approval hopefully around middle of next year thesheetztweetz right now it take about min to set up but with future improvement probably le than mi http t co ehbqc fa kjell_arne flcnhvy canada and norway are next after we get u out of early beta enn_nafnlaus flcnhvy didn t realize that wa possible no problem if there s way get current design cybertruck approved in europe flcnhvy a soon a we get country approval this is required for each country individually a no eu wide approval http t co zbt qjd h jason_rassett lower latitude state need more satellite in position so probably january several thousand more starlink beta participation invitation going out this week louiswferreira new design is better with many minor tweak even the small detail matter engineers_feed haha very close to actual expected flight http t co ruediphtil nigel_lockyer i could not be more excited about the new supercollider that said while it is considerably larger http t co s typirk u wholemarsblog steezyysosa austinteslaclub joetegtmeyer peterdog txterafactory terafactorytx lqdchkn http t co pqsjzopaj steezyysosa austinteslaclub joetegtmeyer peterdog txterafactory terafactorytx lqdchkn jd_average http t co ozazv igxa austinteslaclub joetegtmeyer peterdog txterafactory terafactorytx lqdchkn jd_average eliburton_ tesla tex http t co g iniry e kyzcralotsxam yes penguin random house u f should change the name to random penguin u f austinbarnard sure although it might be quite short livestream lot can go wrong but we ll provide video wa http t co jmojn hhxs fnarolles tgmetsfan this is what matter most erdayastronaut klotzadam nasaspaceflight we ve tested sub scale version in wind tunnel with active aero clos http t co m xzlzvsaq flcnhvy rgvaerialphotos http t co hez otgjjh rgvaerialphotos lord of the tgmetsfan klotzadam nasaspaceflight erdayastronaut yeah although if it fails right at the end some landing http t co daqdiiwb x flcnhvy nasaspaceflight erdayastronaut minor klotzadam nasaspaceflight erdayastronaut understanding exactly how the body flap control pitch yaw amp roll duri http t co jvi n r nasaspaceflight erdayastronaut but rud right off launch pad is also possible fortunately sn is almost ready nasaspaceflight erdayastronaut stable controlled descent with body flap would be great transferring propellant http t co vpiippdv teslaownerssv kristennetten teslatino every to day kristennetten teslaownerssv teslatino fault will never be zero but at some point the probability of fault wi http t co inu xajd u teslaownerssv teslatino we measure this primarily in intervention probability this update addressed several issu http t co zyf efd ih teslatino thanks to great autopilot ai team working super hard doing neural net without testing them again http t co mnn s srre auchenberg latency will improve significantly soon bandwidth too teslaownerssv this build should be noticeably better with intervention rationaletienne teslaownerssv toadmeister yes teslaownerssv toadmeister i ve spent more than half my life in california amp love the state but frankly i think http t co s xouoedjt toadmeister and sweden is still right with zero death oct http t co b lygotobi tocnewyorkstate true also fewer heart attack a way easier to pump blood in gravity malekkhelifi inety prince engineers_feed now we re talking also stephenson is in the constellation scrotum haha engineers_feed small fry the sun convert over million ton of mass to energy every second wholemarsblog accurate ajtourville endelsound grimezsz http t co hx tla f bluemoondance spacepadreisle some challenge with high wind look like sunday for static fire spacepadreisle great shot endelsound grimezsz future ai will appreciate this teslarati truth is stranger than fiction waitbutwhy u f universal_sci urf is so smol homantse for long time truth be told i ve eaten at jitb many time over the year even the teriyaki bowl might buy jack in the box footstool skorusark approximately log rate challengerst same bot just change setting to combat samtalkstesla well being phased array antenna it is actually rather flat tesla should make u f catgirl robot machinepix little crane am i just toy to you coffeemaestro_ u f u f come here no come here u f wow this mayo sure is salty ppathole pcgamer max payne wa great on many level silent hill good too jack in the box should do double duty a sperm donor clinic name is u f c thewpmontgomery pcgamer one of the best game ever thatdudeshannon pcgamer fear with modern graphic amp sound would rock matthewgarcia pcgamer ok zzcool pcgamer all game in this thread are far scarier amp more creatively so than any horror movie pcgamer fear is best imo also dead space they will haunt your dream rakyll http t co p agokwqpv jgrano flcnhvy to the best of my knowledge literally zero equipment wa usable without major repair or upgra http t co vrwvop qd flcnhvy all that wa left were broken bot amp equipment hardly worth the scrap metal value but we scrounged up spa http t co ywqqasrbt flcnhvy and there were actually zero employee in the factory after gm toyota left they took all good equipment amp http t co c dfuastpm ajtourville bettern nothin or ur u f b back wholemarsblog u f ab u f f hyperchangetv tesla team ha done great work hyperchangetv well tbh our capex efficiency in wa trash u f c westcoastbill testing for covid is license to print money arctechinc tesla yes very helpful thanks all beta tester erdayastronaut video training amp inference is essential for excellent autonomy engineers_feed sigh there should be new supersonic jet this time electric worldandscience critical to humanity s future congratulation spacex team http t co no z f teslatino mine is few day ahead eliburton_ teslaownerssv sure it could be an option in setting teslaownerssv visualization will tone down significantly for production these are intentionally strident color erdayastronaut tobyliiiiiiiiii austinbarnard superclusterhq sure erdayastronaut tobyliiiiiiiiii austinbarnard superclusterhq i m in boca every week so maybe we could talk th http t co vb wd bsc tobyliiiiiiiiii austinbarnard superclusterhq good point probably next week in form of written piece on spacex website austinbarnard superclusterhq great pic that we now have the beginning of starship production system is most meaningful wholemarsblog yup with beta update there ll be lot of step fwd step back situation but pace of improv http t co h xcsvngdo bart_sanders working on it also need to be able fart at other car on command spacepadreisle starship is coming together price change is pushed to thursday next week applies only to u for now one week clock will start in other countr http t co cjhtxcselt austinbarnard there will be deg glass star bar name tbd at top of high bay dmc_ryan well we have said many time that the price will rise a the product functionality improves how much ti http t co xmemo nu m stephenking agreed are these performance tire spacex just small seeming issue with loss of upper stage camera probably nothing serious but standing down to http t co zk vr xwzl flcnhvy sure now that tesla fsd beta is out in limited release fsd price new or upgrade will go up by k on monday teslagong ppathole teslaownerssv tesla_raj a soon a we complete testing amp regulator approve so many differe http t co d uoa jncx ppathole teslaownerssv tesla_raj yes teslaownerssv tesla_raj haha teslarati dependent on proving high safety wholemarsblog not intentional we just wanted to show that you could theoretically convert the entire u vehicle f http t co pczpbd jj erdayastronaut cold gas for now hot later rubix i mean ya gotta have tiki bar starship nosecone high bay amp tiki bar http t co qxyxmmiuj ieeeorg erdayastronaut after it get to orbit few time erdayastronaut got little melty tbh erdayastronaut those engine could go bar but would be dicey pushing it for near term test doesn t achieve http t co pulpf me erdayastronaut raptor ha now run for sec at bar chamber pressure before encountering issue mt f sea http t co rg erwhznt fsd beta rollout happening tonight will be extremely slow amp cautious a it should data from engine starship static fire this morning look good proceeding with nosecone mate ppathole toadmeister yes we also have to consider population life month lost from lockdown amp other restriction http t co ct svangy toadmeister sweden at zero death oct http t co gy ummx joshtownsend_ yes juanjacobs jwangark firmware is probably slightly more accurate description but yes rt tesla there s no place like home especially if it ha solar roof this kansa ranch got theirs installed in day ppathole flyerandyp mojosusan mobi c ha too much mobility fusion ha too little we need mobi d haha flyerandyp mojosusan actually it s my neck http t co vcoaxsrv flyerandyp mojosusan maybe i can be helpful had mobi c disc put in at c c however st surgery failed to remov http t co czykfyo ix jwangark pretty accurate it s not so much dna sequencing a it is using synthetic dna rna to fix bug in our code http t co y gcysvghm samtalkstesla london to beijing would be cool samtalkstesla wow that would be quite trip cinotpyrc that s my kid haha m t r tr nd http t co v yo jkbs techamazing look like snoopy tesmanian_com current production is slightly better bamtheteslaman cleantechnica doesn t seem to be any life in this solar system maybe under the ice of europa or http t co izk v gi rt tesmanian_com tesla model sr ha lowest energy consumption of all bevs say report http t co c v wt y cleantechnica very creative flcnhvy that free fusion reactor in the sky conveniently convert million ton of mass into energy every second http t co r owmreup kristennetten teslaownerssv you never know ppathole after xbox u f whatsupfranks kimpaquette also system should autodelete old data automatically by default univercurious table in tension kimpaquette yes teslaownerssv starting production on seater next month initial delivery early december the gauntlet ha been thrown down the prophecy will be fulfilled model s price change to tonight neopork spacex nasaspaceflight austinbarnard whoisheartbreak erdayastronaut felixschlang http t co z mrscc g gem mingen tesla congratulation teslarati making progress meter or roughly ft diameter will be le roomy with vacuum rocket engine added http t co pktdfdizyc flcnhvy wholemarsblog kristennetten boringcompany tesla it s still there but focus is vega amp prufrock our new tunneling machine astrojordy kristennetten boringcompany tesla for sure wholemarsblog kristennetten boringcompany tesla maybe month or so some finishing touch need to be done on the station kristennetten boringcompany tesla we simplified this lot it s basically just tesla in tunnel at this point http t co xhs awxb playoverwatch sweet antonkanerva yes everything is slow to phased array antenna lexfridman nice what is love baby don t hurt me winston churchill playoverwatch twomad or maybe weak turret to allow more strategic degree of freedom playoverwatch twomad please buff torb s turret twomad um yes teslaownerssv i have goosebump merch not sure how tbh teslaownerssv hg g teslaownerssv lotr u f the illuminaughty u f chotihaque billgates dougstanhope bobdylan charltonbrooker ericidle jimcarrey johncleese sapinker knee deep rt spacex this will be the first flight of the upgraded cargo version of dragon which is able to carry more science payload than th rt spacex the dragon spacecraft supporting spacex s st cargo resupply mission to the space_station departed our hawthorne factory last chipro yeah wr nygov at least success is in the set of all possible outcome this time bad_at_life wholemarsblog dy is doing his best to move in the right direction but he s in tough position wi http t co tdf u nd c flcnhvy good grief spacex is getting zero money for this starship is designed to carry people amp cargo around ear http t co v qm kycr teslarati with fsd we got stuck in lot of local maximum which wasn t clear until we hit the ceiling this time it s right rationaletienne delayslater thank you much more accurate haha delayslater this graph appears to be upside down teslarati sheer magnitude of the entire production system is hard to appreciate almost every element of productio http t co h p oelk teslaclubin cleantechnica will release order configurator probably in jan cleantechnica limited fsd beta releasing on tuesday next week a promised this will at first be limited to s http t co qrymb ii shortword jwangark the soc s sync with each other to time sec exchanging output of nns that should be in http t co cbjmeaavw jwangark tesla fsd computer s dual socs function like twin engine on plane they each run different neural net http t co dfwlhxu ce jwangark accurate analysis quite few ego intelligence gt gt people in your comment thread haha neither mobileye http t co fdligohk ppathole slashdot ohiotesla jendunlap_ tesla caranddriver teslaownerssv teslarati electrekco glad jen is safe ppathole slashdot wow slashdot uh ok here we go teslarati i don t think this is accurate erdayastronaut mariabartiromo potus realdonaldtrump jeffbezos morningsmaria foxbusiness yeah there are lite http t co ghoisz v r tesmanian_com even if half that amount it s still big deal enn_nafnlaus electricfuture u f u f mariabartiromo potus realdonaldtrump jeffbezos morningsmaria foxbusiness i have seen no evidence of an advanc http t co hbtdtjyttc electricfuture we face tough dichotomy of applying resource to the old architecture or applying them to the ne http t co qghblfrk flcnhvy definitely enn_nafnlaus exactly he play the poor inventor card but wa rich all along amp invented nothing a far a i kn http t co zz al enn_nafnlaus there are sketchy edits to tesla wiki that whitewash eberhard s problem glorify his role pretty odd http t co ppsorkwdi enn_nafnlaus when eberhard wa fired from the tesla ceo role in mid for providing false information to me amp t http t co hj vlxzfp carrenimfa interesting rt cradvocacy the future of car can and will be electric if the entire industry start making and marketing compelling ev for everyone erdayastronaut flcnhvy pellebrannvall neopork caspar_stanley ercxspace marcushousegame felixschlang http t co xlbidpmuuq teslaownerssv erdayastronaut probably erdayastronaut i have that exact art on the wall of the place i stay in boca chica rationaletienne toadmeister yes failure to protect nursing home wa major mistake happened in most country http t co cmvdkmrish toadmeister sweden wa right http t co bzc lfdjzq erdayastronaut pellebrannvall flcnhvy neopork caspar_stanley ercxspace marcushousegame felixschlang http t co lgpvl k mi teslarati great work by spacex valve engineering amp production neopork caspar_stanley ercxspace marcushousegame felixschlang c_bass d nickhenning d spacex our tile are mechanically attached flcnhvy neopork caspar_stanley ercxspace marcushousegame felixschlang c_bass d nickhenning d spacex it m http t co whxamj iq neopork caspar_stanley ercxspace marcushousegame felixschlang c_bass d nickhenning d spacex tile will be http t co xpnqrcxqnc id_aa_carmack compiler need to improve imo most type pointer or other memory problem can be detected at comp http t co n rzp udi rgvaerialphotos spacex i m proud to say that that nose is pointier than it need to be haha rt motortrend we put the tesla model y long range electric suv on our test track to find out what it can do and it turn out well sdg anandmahindra metnigeorges eriksolheim berniehollywood norway lead the world nasaspaceflight passed cryo proof johnkrausphotos superclusterhq spacex u f d ajtourville yeah it s not contest advanced casting crush best case d printing but casting doesn t work wel http t co uscsep aq astro_farmerbob astro_pettit astrokomrade astroannimal great pic johnkrausphotos patreon superclusterhq spacex maybe this should be the flag of mar tashaark additive manufacturing of part is still far too costly for car but can rapidly create tooling to accel http t co z kxjt umj renatakonkoly franktinsley ankitxupta tashaark pretty much but i think it may end on high note rt spacex starman last seen leaving earth made it first close approach with mar today within astronomical unit or under mill evhq tashaark meant to say that it should be fixed in the latest wide release won t need to wait for fsd evhq tashaark it should be franktinsley ankitxupta tashaark exactly we barked up that tree for way too long sigh give false sense of http t co aigaenc f picklepunchd ppathole tashaark yes we will play sexy snake jazz u f zainraz ppathole tashaark yes ppathole tashaark yeah provided we do our metal gear snake autocoupler tashaark waymo is impressive but highly specialized solution the tesla approach is general solution the lat http t co bbchdqhjja akidesir kristennetten yeah we could put in setting allowing it to drop a low a ercxspace spacex erdayastronaut marcushousegame felixschlang great render note there will need to be an arm http t co g n fvscz kristennetten mimecraft teslagong teslatested yes icannot_enough teslatested autopilot team is making great progress reality sure is complicated ercxspace marcushousegame brendan bocachicagal nasaspaceflight aspiring to have no flame diverter in boca http t co kyenxz oy eugenelee marcushousegame brendan bocachicagal nasaspaceflight we do have giant steel ball haha teslatested we just completed financing round but will let you know when there is another one ihearttesla alex_avoigt mike_zimon wholemarsblog i definitely need to try these tasty cake amp pastry on my next visit marcushousegame brendan bocachicagal nasaspaceflight mass ratio liquid oxygen is much denser than liquid m http t co gnhci reh ihearttesla alex_avoigt mike_zimon wholemarsblog had the most amazing kebab ever just outside of tacheles too http t co dsgvwdhgnv ihearttesla alex_avoigt mike_zimon wholemarsblog d ner kebab tribehoh spacex wastatecommerce you re most welcome brendan bocachicagal nasaspaceflight high bay should be finished except for the giant gantry crane within http t co mieahkgnfo alex_avoigt mike_zimon wholemarsblog that look tasty tesladri chananbos raytech wholemarsblog the crash absorption rail can be cut off amp replaced with bolted part for collision repair icannot_enough wholemarsblog sandy munro understands engineering flcnhvy teslaownerssv raytech wholemarsblog that would be like licensing battlestar galactica actually buil http t co hi od ye teslaownerssv raytech wholemarsblog yes the gigafactory is the hardest amp most critical product chananbos raytech wholemarsblog battery pack will be bonded structure with cell providing shear transfer b http t co nbzqekw qx raytech wholemarsblog but now we understand production much better it will be our primary competitive advantage long term raytech wholemarsblog even gm amp chrysler went bankrupt in ford and tesla are the only u car company t http t co ieaouisjri raytech wholemarsblog the model production ramp wa sheer agony for two year but that wa do or die for te http t co zhqxmco gy evafoxu wholemarsblog bringing new product to volume production is inspiration amp perspiration you do st http t co g dlcmg wc skorusark marginal cost of starship mass to orbit should be well under kg fully burdened cost depends on flight rate wholemarsblog prototype are piece of cake but high volume production of new technology is extremely hard ta http t co o ojwfj zg wholemarsblog we do expect to make heavy use of lfp for medium range car amp stationary storage wholemarsblog berlin will use cell with structural battery pack amp front amp rear single piece casting also http t co pteaj z i astrojordy wholemarsblog they are wholemarsblog i do so wish that more company would put down their spreadsheet for moment and focus on making http t co lckxzfpozx ppathole klod_ua erdayastronaut trevormahlmann johnkrausphotos mike_seeley bar absolute which is fine for http t co afru adajy klod_ua erdayastronaut trevormahlmann johnkrausphotos mike_seeley cryo pressure test succeeded but small le http t co wyticewfr erdayastronaut trevormahlmann johnkrausphotos mike_seeley one of the best shot ever samtalkstesla spacex much sooner mdcainjr spacex thspacewing nasa great photo dirtytesla spacex it will soon rt spacex falcon launch starlink satellite to orbit completing spacex s rd flight of previously flown rocket booster http spacex once these satellite reach their target position we will be able to roll out fairly wide public beta in http t co klhnfmgz rt spacex deployment of starlink satellite confirmed http t co x ovjb pa flcnhvy alvianchoiri we re not seeing notable difference yet i think the booster could probably do reflig http t co zugaquvpy ppathole alvianchoiri roughly week or two turnaround is all that s needed to meet max launch demand starship s http t co yxmoofzu n alvianchoiri ahem yes it wa the rd flight of this booster amp rd flight for active half of fairing aiming for http t co awxtjefc d th flight amp landing for this booster http t co uotvmkgxqh minute from launch look good so far http t co on f py jt cleantechnica so crazy to subsidize pollution this is not good for people especially in dense city with heavy http t co ackoizwcpw sciguyspace it s step in the right direction but they should really aim for full reusability by larger ro http t co hvvkuqdon turn volume to amp play powerglide in your tesla http t co l yc p g teslaownerssv fsd will solve these issue music volume on tesla go to because it s louder than http t co ab hamo en kristennetten flcnhvy one of my favorite writer foundation is tough to make into movie but ha outstanding potential orionsgauntlet u f af christianserino http t co glnevuneyl rewatched young frankenstein this weekend still awesome ovaltine http t co wimdyfsuiq flcnhvy the remake ha the potential to be great i kinda liked the original tbh but it s possible to take it up level hollywood should just start with the sequel amp skip the original because financials cleantechnica this article is wildly incorrect about lithium battery cost by factor of or more presently amp x long term samtalkstesla teslaownerssv ppathole rationaletienne stevenmarkryan kristennetten wholemarsblog pretty wild http t co pqh kalcf new spacex droneship will be called shortfall of gravitas nothing can escape gravity not even black hole and they really tried id_aa_carmack would be cool to put yourself in the mind of the car while it s driving model teslaj coming soon call of booty great game http t co hyfszsrm m teslaownerssv spacex vector space bird s eye view coming with fsd ppathole spacex unexpected pressure rise in the turbomachinery gas generator erdayastronaut spacex all of that and more we re doing broad review of launch site propulsion structure av http t co nkfvidsxpp alandail spacex exactly spacex we will need to make lot of improvement to have chance of completing launch next year lexfridman i agree with lex mike tesla electrekco teslarati glad you re ok sofiaan tesla haha amoghbhushan teslaclubin wholemarsblog mkbhd thanks for waiting teslaclubin wholemarsblog mkbhd next year for sure tobyliiiiiiiiii rationaletienne spexcast william_m_brown ppathole thesheetztweetz waemd spacex http t co zfbqlhxk f rationaletienne spexcast william_m_brown ppathole thesheetztweetz waemd spacex spacexstarlink http t co hscbef mnf spexcast william_m_brown rationaletienne ppathole thesheetztweetz waemd spacex spacexstarlink wanationalguard great william_m_brown rationaletienne ppathole thesheetztweetz waemd spacex spacexstarlink wanationalguard brown http t co ggoesdif j ppathole thesheetztweetz waemd spacex spacexstarlink wanationalguard average latency will improve a more sat http t co piqitzeia tobyliiiiiiiiii rationaletienne ppathole thesheetztweetz waemd spacex spacexstarlink wanationalguard very s http t co etjxxiv vq rationaletienne ppathole thesheetztweetz waemd spacex spacexstarlink wanationalguard yes starlink is design http t co r rrgvpvr ppathole erdayastronaut nasaspaceflight bocachicagal thefavoritist probably or with an optimized tanker http t co smk d fmx thesheetztweetz waemd spacex spacexstarlink wanationalguard starlink will be revolution in connectivity esp http t co bqfd kwhbn wholemarsblog mkbhd yeah adlanbogatyryov erdayastronaut nasaspaceflight bocachicagal thefavoritist great letter it will be increasingl http t co xkwyon io erdayastronaut nasaspaceflight bocachicagal thefavoritist the ship ring are thicker than they need to be for http t co s itp wo mkbhd it s next level fox phoenix u f b u f u f officialalishap flcnhvy tesla glad to hear your mom is ok zshauladventure nasakennedy ulalaunch spacex natreconofc good to see inspiring for future of space somi_teslagirl model owner futurejurvetson cfs_energy cup_plasma mit the new heat pump in model y is what re http t co rj vluf thatt slaguy model owner futurejurvetson cfs_energy cup_plasma mit yes coming soon ercxspace spacex felixschlang marcushousegame erdayastronaut nasaspaceflight great render the circumferentia http t co ottsix af model owner futurejurvetson cfs_energy cup_plasma mit that s very hard to do have you tried pushing on the c http t co elp pf sl futurejurvetson cfs_energy cup_plasma mit it s cool amp for sure can amp should be done but i suspect it best ca http t co pmyscvzozy austinbarnard weld esthetic will improve greatly in upcoming starship ppathole haha true why do shower have such wide range evafoxu rationaletienne wholemarsblog yes univercurious physicsj light is not a fast a you d think rt spacex once this dragon dock to the space_station there will be two dragon docked simultaneously between crew and cargo mission rt spacex spacex training of astronaut that will fly on board dragon s first operational mission is complete when the crew arrives for rt spacex after launch of crew dragon s first operational mission with astronaut on board spacex will launch it st cargo resupply mi samtalkstesla maybe we used too many magenta spotlight rt kathylueders news we re now targeting am et saturday oct for the launch of the nasa and spacex crew mission to send ast valaafshar tesla having low center of gravity make world of difference to safety vm_one waemd spacex we will probably ipo starlink but only several year in the future when revenue growth is http t co kh qryrkoe perezshivam waemd spacex fate loooves irony haha waemd spacex glad spacex could help we are prioritizing emergency responder amp location with no internet connectivity at all austinbarnard true teslavibes that s total market not all tesla we do see tesla reaching m vehicle year probably before bu http t co gxnszacar cashmoneylemon cathiedwood skorusark total market cathiedwood skorusark seven year for sure to m new fully electric vehicle per year six year maybe five ye http t co fy nwwbx flcnhvy cathiedwood both will do original car cathiedwood we aren t cutting the price of model to k i wa referring to future car that will be smaller than model brian_heide tesla what about heavy duty paintball machine gun mounted on the bed rail pickenheim matthew_kerle new version coming soon wholemarsblog supplier we re only doing high energy nickel ourselves at least for now also maybe the presenta http t co l pv okpky http t co r sox vta teslagong drsallyl sydney_ev _teslatom teslastraya outbacktesla ev_outback michael cvanderstock http t co quf hh qcg scottadamssays u f u f flcnhvy kristennetten checking into it kristennetten totally up to you but if you head to tesla delivery center near you amp maybe help out new owner that would be cool id_aa_carmack completely agree erdayastronaut yes the flap are now directly driven by electric motor with gearbox no more hydraulics thanks tesla team for great work on delivery for new owner we super appreciate accommodating u on delivery ti http t co ppzzhxbxgp scottadamssays there are time when i feel like i m living in dilbert cartoon artifactshub that specie ha stood the test of time flcnhvy nasaspaceflight austinbarnard ppathole mostly l some broke at to interface sn will http t co wpeprv s r nasaspaceflight austinbarnard ppathole bar differential in ullage bar at base due to propellant head it http t co qvgkyw qd ppathole we just need enough height to test body flap amp drawing propellant from header v main tank will do se http t co pgzafesc x first flight is to km or ft nosecone amp front flap next week sn next month starship sn with rear body flap http t co gdxmbzx ct waitbutwhy http t co v u yho muratpak sure evafoxu true rt spacex falcon will launch nasa s super cool interstellar mapping and acceleration probe imap which will help researcher better hisdirtremoves spacex not bad enn_nafnlaus ajtourville exactly ajtourville munroassociates sandy munro understands engineering darealwamos turn out they mostly press the letter s amp u f on the typewriter u f http t co kaarajvl b centaur with bow obviously http t co cfkfkffxp justpaulinelol evafoxu haha evafoxu something like this http t co ndvuumms ajtourville can t support wheel vehicle not safe enough rgvaerialphotos mm marlonsix something appealing about hawking hartle idea but i agree with turok feldbrugge lehners muratpak u f ur algo ppathole marlonsix true ppathole erdayastronaut there are some practical size constraint too can t be too big to fit in the engine comp http t co axz yheldj ppathole erdayastronaut doesn t seem to be problem we could probably increase area ratio given bar max de http t co gutz kgij marlonsix http t co gzljmnyciu djsnm preburners ignite then main chamber marlonsix where is our prediction of probability inaccurate marlonsix or energy amp time but besides that what podcastnotes genetic engineering is too slow unless you use synthetic virus what can t we predict tobyliiiiiiiiii erdayastronaut yeah but might not need it erdayastronaut expansion ratio you can little bit of flow separation towards the end of the nozzle rt spacex completed full duration test fire of the raptor vacuum engine at spacex s rocket development facility in mcgregor texas http rt spacex rvac and sea level raptor with human for scale http t co xqipquy pl only thing beyond ludicrous is plaid http t co rhuwk egg xiang_aw wholemarsblog this doe seem like the opposite of open openai is essentially captured by microsoft wholemarsblog haha true oneandonlyheady maybe i will techamazing univercurious jet are so cool flcnhvy gfilche yahoofinance pretty much stprinciples l gfilche yahoofinance yes gfilche yahoofinance yahoo finance is a dumb a it sound icannot_enough yes neopork spacex haha tobyliiiiiiiiii tesla roadster will be better ppathole probably cybertruck atv roadster amp semi c r s http t co aq cykh futurejurvetson hiromichimizuno thanks for your many year of support through very tough time icannot_enough wholemarsblog we will be little below that this year most challenging year we ve ever had but http t co ygde oszxa wholemarsblog that s about right maybe little faster umutcnbostanci yes teslaownerssv cgi irl tobyliiiiiiiiii caranddriver tesla haha rt caranddriver we drove model s long range plus for mile in california and believe we could have made it to tesla explain the extreme difficulty of scaling production of new technology is not well understood it s to harder http t co mcxxfnsqfj nasaspaceflight bocachicagal haha we intend to increase not reduce battery cell purchase from panasonic lg amp catl possibly other partner too h http t co fl lwcp q important note about tesla battery day unveil tomorrow this affect long term production especially semi cybertr http t co fo xhxas q evafoxu thanks neopork spacex marcushousegame we really need better leg for starship they re coming neopork spacex marcushousegame most likely all flap will fold after landing to reduce wind tip over force t http t co dynlt ekgk model owner fine we ll do it already u f arkinvest tashaark good analysis although i think we should wait until fsd is bit more mature singing__surfer i m pretty sure tesla could do much better autocorrect the bar is so low haha lorenzoteixeir zog_fot_pik samiralyateem id_aa_carmack true igorantarov soumiksf id_aa_carmack custom ultra high speed bus amp efficient cooling teslaownerssv jgrano soumiksf id_aa_carmack ok flcnhvy soumiksf id_aa_carmack pretty much any machine learning jgrano soumiksf id_aa_carmack it s big zog_fot_pik samiralyateem id_aa_carmack sure soumiksf id_aa_carmack yeah we will open dojo for training a web service once we work out the bug samiralyateem id_aa_carmack there are lot of pointless zero in fp neural net you can chop off of the http t co mlpvbpni y soumiksf id_aa_carmack dojo us our own chip amp computer architecture optimized for neural net training not http t co oicfjt gna llamaa id_aa_carmack tesla you really want waypoints this much id_aa_carmack for dojo we re betting on fp with floating floating point essentially truncating mostly zero http t co bixl qih wholemarsblog yes babytesla wholemarsblog yes wholemarsblog there ll be lot of green space around factory but building itself is continuous the open area http t co rabjkrtqlw savedtesla peterdog shaped like diamond amp aligned on true north prior track record of exceptional achievement in engineering is required but no prior experience working on http t co wzaddnxmid if you feel neuralink might have incorrectly overlooked your resume or declined to make an offer please lmk in co http t co hp z dg teslaownerssv model owner trungtphan felt i had done enough on the internet zip amp paypal that my work would http t co ctbfloi so model owner trungtphan it took an utterly insane amount of work to move the spacex amp tesla success probability above zero trungtphan to be frank in the early day i thought there wa gt chance that both spacex amp tesla would be worth http t co cn bfbua q fermatslibrary irrational is such funny word to describe number of course i still love you deborahpatteri tenetfilm sure but which planet tenetfilm good movie erdayastronaut current wa too strong for droneship to hold station thruster to be upgraded for future mission chrisdungeon lot ha happened in year teslarati it will be very insane speedrunning factorio in real life cleantechnica no but you make some great point important to note that iron s cost advantage is partly offset by http t co nez hkuc coderfoot m jr berniesanders yup fallout shelter is on your tesla tap the entertainment button m jr berniesanders implicit conflation of consumption amp capital allocation is the foundational error kristennetten great idea u f fallout radio u f http t co gno xfjx b tjlk there are some eerie parallel between the boring company amp vault tec we also built our first demonstration tunnel vault in la double a an underground nuclear shelter u f u f d http t co cvi yrjobe flcnhvy lexfridman yeah tesladri id_aa_carmack lexfridman should be happening soon id_aa_carmack lexfridman bit more obscure but starhammer amp stainless steel rat engineers_feed at first i thought that wa parrot johnnacrider jhall they remind me of these guy http t co qt u np story of my life http t co vn rv yq q tunnel under city with self driving electric car will feel like warp drive first operational tunnel under vega http t co wizyhed pa jackfarrington for sure jackfarrington tesla good point have you hugged tunnel today arkinvest aurmanark good analysis ppathole exactly flcnhvy gary the snail is still winning but we re gaining on him her embrace tunnel valaafshar tunnel are the solution to traffic you can have a many level a you want usable tunnel depth far e http t co lqfdqwhh g matthewcable ercxspace just guess but probably mid teen booster amp stacking on orbital pad are likely limiti http t co atqpexe dk ercxspace pretty accurate simulation although sn will use raptor if sn crater sn amp sn are close behind http t co wvqfq oqua teslavibes couldn t agree more major software improvement are already in place to extend it life amp more coming cleantechnica definitely not smartwatches amp phone are yesterday s technology neuralinks are the future engineers_feed seems like they should make whole outfit out of that material sama ancient greece had it all amp then committed suicide nobody dig your grave better than yourself flcnhvy sama true historyinpics the lego movie wa awesome sama the story of civilization first book is little dry but second book the life of greece is incredible http t co lbcix fi erdayastronaut i m wearing your f engine shirt right now ppathole _rykllan felixschlang spacexcentric marcushousegame spacex cumulative mass to orbit per year correc http t co lcu xzvm ppathole _rykllan felixschlang spacexcentric marcushousegame spacex that s the number that really matter _rykllan felixschlang spacexcentric marcushousegame spacex anyone tracking tonnage to orbit per year for all launch vehicle one way or another excitement guaranteed support of greater boca padre brownsville community is very much appreciated sn starship with flap amp nosecone should be done in about week then static fire checkout static fire fly to ft amp back spacepadreisle bocachicagal nasaspaceflight can someone do boat service from south padre to boca whatsupfranks samiralyateem wholemarsblog exactly problem like that have been addressed ppathole wholemarsblog yes good insight samiralyateem wholemarsblog all frame stitched to single frame tricky a all camera overlap in different way http t co yzcixdgm whatsupfranks brandonbernicky wholemarsblog much flcnhvy wholemarsblog yes brandonbernicky wholemarsblog releasing private beta in to week public beta early access owner who opt in http t co oycpr i hq wholemarsblog and this still isn t using the dramatically better d aka simultaneous surround video from camera architecture c_bass d nasaspaceflight marcushousegame cool richardreinariv he ha no clue astra sorry to hear that i m sure you ll figure it out though took u four launch to reach orbit rocket are hard many exciting thing will be unveiled on battery day u u fe f ostimusic we will make super efficient home hvac with hepa filter one day jhall rbreich if reich actually care about global warming why is he making so much hot air flcnhvy u f e u f ea nat rlich u f e u f ea bitte arbeiten sie bei tesla giga berlin e wird super spa machen http t co fcnopr oii monicalewinsky try tesla amp you re welcome to give it back if you decide you prefer subaru slashdot vera rubin observatory is cool ppathole eugenelee univercurious charliemunger univercurious munger is right eugenelee univercurious http t co f rwy exee univercurious black scholes formula is kinda b big difference between finance approximation amp fundamental physic pure math wintonark true disruptresearch tesla is best understood a collection of about dozen startup mostly in series increasingly http t co zynsxisp n disruptresearch tesla r amp d productivity is exceptionally good due to the caliber of engineering talent tesla model s amp x have hospital grade hepa air filter amp y are really good too this ha big effect on healt http t co ytsk lmfii klee_filmreview rt teslarati tesla energy ramp hiring at giga new york for accelerated solar production http t co iha drewu techgnostik rbreich touch rbreich all tesla worker also get stock so their compensation increased proportionately you are modern day moron rt spacex onboard camera view of falcon s saocom b launch and first stage land landing http t co iezyiyyg mstrofuniverse ppathole evafoxu yup evafoxu teslarati rawlinson didn t design model s prototype wa done before he joined amp he left u in the lurch just a t http t co oy yvm xm erdayastronaut ppathole spacex we re pretty close to the manufacturing size limit for milled copper amp steel ja http t co t d yn xry la guerre comme la guerre harsimranbansal haha bnordhaug and start tweeting if you bombard earth with enough photon eventually it emits tesla ak id_aa_carmack there is already bidirectional communication between human amp ai via phone amp computer it s just lo http t co t iuazmwh erdayastronaut ppathole spacex above likely to make it ppathole spacex this is test engine flight article are fixed with no gimbal spacex worth noting that thrust is only slightly higher with the big bell nozzle version larger bell is primarily http t co kiegovt rd rt spacex the first raptor vacuum engine rvac for starship ha shipped from spacex s rocket factory in hawthorne california to our dev tesmanian_com yes skorusark chart understates lithium ion potential by roughly model rated a most reliable car http t co dagjltdy turn out you can make anything fly haha http t co fjdhqrdvdb ppathole curevacrna exactly this is not fully appreciated austinbarnard starship sn flew asimilar hop to sn but it wa much smoother amp faster operation u f e u f ea u f giga berlin mannschaft u f u f e u f ea vielen dank f r ihre hervorragende arbeit an giga berlin http t co kvo mbfnxt great trip to germany support from government amp people is super appreciated sara_boutall tesla u f u f rt spacex deployment of starlink satellite confirmed http t co ddbxiodog rt spacex liftoff http t co stznan vtx stefantpeterson tesla trust ur butt haha slashdot an ai with u f picking a it goal will result in strawberry field forever spceenthusiast tjmurphy_mit thesheetztweetz exploremars spacex theespacedude over time outer will have http t co z p upkqs spceenthusiast tjmurphy_mit thesheetztweetz exploremars spacex theespacedude yeah alert_alarms just go through resonant mode fast it s when you hang out there that problem arise tjmurphy_mit thesheetztweetz exploremars spacex theespacedude the outer ring of booster engine of hav http t co ssaqzj act erdayastronaut flcnhvy gerberkawasaki videodrome teslaownerssv justpaulinelol http t co ckvhrmtf teslaownerssv justpaulinelol http t co qobvxgq fz teslaownerssv justpaulinelol sorry sir i think i have momentinertiaphobia rt spacex falcon first stage land at landing zone to complete this booster s fourth flight http t co tutackmifn frydave youyanggu dfisman yeah ppathole nigel_lockyer penn fermilab lhc tbh http t co ovaohsg of nigel_lockyer penn fermilab if you ever want to build long accelerator tunnel straight or circular i know some people rt spacex after launching saocom b and two rideshare payload to orbit falcon s first stage return to earth and land at landing zon rt spacex deployment of saocom b confirmed http t co gqtxqmpy rt spacex falcon s first stage ha landed at landing zone http t co y fkvqpk rt spacex liftoff http t co aiwrmzb d vitalvegas cool rt neuralink snout boops http t co zjogq ulvf nigel_lockyer penn fermilab physic is the law everything else is recommendation samtalkstesla teslarati if some company ha solved useful thing that we can just buy that would be great it s http t co ixhyt nuic teslarati tesla germany designed amp built the vaccine rna printer for curevac but subject to some curevac ip th http t co x sda g engineers_feed technically james watt measured pony added amp rounded up haha http t co vnko mtruc flcnhvy gerberkawasaki also critical thinking flcnhvy gerberkawasaki alexander and the rise of hellenism and film study gerberkawasaki wow i super loved astronomy but took it at queen not penn definitely one of my favorite class http t co o fjcglahw teslaownerssv justpaulinelol yeah he sent it to me through mutual physic prof friend at caltech cern very ba http t co tjsh exz q justpaulinelol it s too embarrassing just learned that my physic prof from penn is head of fermilab amp still ha some of my old homework u u fe f ruskin it is unfortunately common for many in academia to overweight the value of idea amp underweight bringing http t co offoojcqnv l_vaux kulpability tlowdon ethicalskeptic people are extremely unlikely to die of covid sars cov alone if you http t co g vxpupkvn ppathole kulpability tlowdon ethicalskeptic that amp giga berlin are why i m headed to germany this week convers http t co qqdcdov jo tlowdon ethicalskeptic antibody half life for cov is very short in study that spacex did working with harvard http t co dyl p xvuf ppathole tlowdon ethicalskeptic yeah kulpability tlowdon ethicalskeptic one person at tesla out of wa hospitalized in serious condition he http t co unjgvlveuk tlowdon ethicalskeptic some of the test we initially tried at tesla were false positive including some fro http t co by oophpp wholemarsblog marcushousegame neopork spacex erdayastronaut spacetoday elonsworld felixschlang chrisg_nsf djsnm not yet marcushousegame neopork spacex erdayastronaut spacetoday elonsworld felixschlang chrisg_nsf djsnm yes http t co o qpnv qry icannot_enough people read too much into this level of detail it s not useful for predicting the future nor can http t co i rrglbx j icannot_enough critical feedback is always appreciated btw biogirl janeidyeve tesmanian_com spacex we can t have blanket pas but maybe for some event neopork spacex marcushousegame erdayastronaut spacetoday elonsworld felixschlang chrisg_nsf djsnm boost http t co vv agje mw flcnhvy ppathole id_aa_carmack later version of larger device would have that potential evafoxu waitbutwhy yup ppathole id_aa_carmack actually c although the syntax could be improved esthetically id_aa_carmack i like c because it avoids class warfare ppathole ieeespectrum neuralink nightcap would probably work best ieeespectrum neuralink pretty much tesmanian_com good summary conceptual telepathy rt waitbutwhy if you ever fantasize about having been an s engineer working in edison s lab apply to work at neuralink ahem starting soon http t co ecghh ston all of physic is either impossible or trivial it is impossible until you understand it and then it becomes trivial e rutherford flcnhvy giant gap between experimental medical device for use only in patient with extreme medical problem amp wid http t co f fib w z tobyliiiiiiiiii erdayastronaut flcnhvy djsnm testing with shorter rvac skirt went well full length skirt test coming soon neuralink product demo in hour webcast at http t co y wred oj erdayastronaut flcnhvy djsnm raptor reached mt f over half million pound of thrust at peak pressure wit http t co spnwbelpa nextspaceflight good chance something will slip but yeah sunday is intense erdayastronaut flcnhvy djsnm only need engine astrojordy flcnhvy djsnm boring co tunnel in vega is only few month from being operational flcnhvy djsnm neuralink this month amp tesla next month spacex probably october we will have made lot of progre http t co cjsgr sjit zeitmas djsnm soon djsnm they re quite accurate evafoxu that number sure come up lot u f u f ajtourville peterdog i m fine with reasonable drone footage just need to be at fair distance amp not coming r http t co hspkw zk y gerberkawasaki tesla thanks to smart and hardworking team at tesla these sure are wild time teslarati much appreciated this wa serious attack thejackbeyer nasaspaceflight brave starhopper carried the day itmotivatesus only so many day waitbutwhy http t co h u ta wholemarsblog we were too obtuse for our own good although i think it work esthetically those are folded over c http t co alexczij l cleantechnica but actually nothing wa surprised to hear they re across the road adding silicon to carbon anode http t co oohnzzeh v cleantechnica nothing u f lexfridman then they leave the house and hardly ever call their parent the big bang started very very smol http t co xvvcualz o http t co r iexvvn ppathole asimov wa u f u f should we believe thing proportionate to the evidence that they are true yes olde skoole analog synthesizer from ancient britain http t co jg fi chxc slashdot http t co woiwia ztn kristennetten flcnhvy wa just there amp weather wa calm sure hope it stay that way teslarati tesla brake light are powered by miniverse inside microverse http t co aduotl t flcnhvy exactly erdayastronaut tesla no we re focused on developing new product amp scaling production flcnhvy neuralink yes will show v still far from lasik but could get pretty close in few year lengthy background on neuralink by waitbutwhy http t co z yfaupdrd live webcast of working neuralink device friday pm pacific http t co poulbrgzfu engineers_feed astronaughty owensparks_ ppathole erdayastronaut dauqhx universal_sci no ppathole erdayastronaut dauqhx universal_sci mar is easier than the moon for propellant production could get http t co toysp ukif erdayastronaut dauqhx universal_sci starship propellant is oxygen so an o plant on the moon would be enou http t co tukv hvig waitbutwhy now i want candy dauqhx universal_sci there s lot of frozen co amp h o on mar heating the planet will densify the atmosphere it s solvable universal_sci perhaps one day there will be an ocean on the northern part of mar jchybow jwangark wintonark it s almost working reliably jwangark wintonark very different computer are needed for training v inference fsd is mostly int but dojo is http t co zcnw z nxh jwangark wintonark not exactly gpus for nn lot of core optimized for dot product with fast local memory amp sup http t co l xese tesla_addicted erdayastronaut no amp not possible at this scale erdayastronaut orbital launch mount nasaspaceflight yeah occasional flight from land are ok but frequent daily flight probably need km m http t co lliqzacuu schristakos skorusark sure shortword on it coach life i tried to warn them but they just dug their own grave twice a fast skorusark wh kg with high cycle life produced in volume not just lab is not far probably to year nasaspaceflight starship super heavy which is x mass of zenit will mostly launch from ocean spaceports long term rt teslarati tesla model is most satisfying car across all age study reveals http t co ka iha z c http t co xuzmulvfhf johnkrausphotos nasaspaceflight spacex superclusterhq starship super heavy is x bigger in mass amp volume metaphor for life http t co cdll ielju rt jaxzin power is flowing again from the grid grateful for my tesla powerwall and hour of uninterrupted backup power u u fe f u u fe f u u fe f ht tesmanian_com accurate distance calculation using only vision is fundamental other sensor can help but are not fundamental darpa uh oh more fun game coming soon to ur tesla http t co zbdygouhsz http t co hkpwjnxsfc strike again sinan sorry noise reduction ha gotten much better recently amp will continue to improve dami_kolz u f jussiwen hardcore techno aber vielleicht ein bisschen fahrstuhlmusik auf der toilette new tesla feature coming that enables your car to play snake jazz or polynesian elevator music through it outside speaker wherever you go http t co bki sooroe flcnhvy janeidyeve hopefully we have achieved ai symbiosis by then janeidyeve or self perpetuating autocracy based on farcical aquatic ceremony where the king is chosen by wise panzer in lake janeidyeve direct democracy short comprehensible law voted on directly by the people snake jazz u f d u f b wholemarsblog it s quite hard for u to write the software needed to cover basic car functionality but maybe we c http t co ywlqux rbv gpt sound like simon amp garfunkel lyric bureaucracy is inherently kafkaesque tesmanian_com dankesch n brandenburg amp gr nheide harsimranbansal evafoxu true u f u f geffenavraham bryanflanks spellmender vladkarmon torybruno ulaengineer spacex u f medical check is ok http t co ztrmvq wvx he might run for president in http t co wo fhkugu erdayastronaut nextspaceflight not having long chain hydrocarbon amp lowering preburner combustion temperature make big difference everydayelon ajtourville comma_ai tesmanian_com yes wholemarsblog ajtourville comma_ai tesmanian_com yes daniellefong ajtourville comma_ai tesmanian_com absolutely need liquid cooling we re applying our experience http t co ezlaxwg rp teslatested that s an error in canada the lease payment is specifically lower than loan financing a tesla expec http t co vae ppljox tobyliiiiiiiiii erdayastronaut nextspaceflight we will push for ten flight with starlink flcnhvy erdayastronaut nextspaceflight almost never need to replace whole engine but some individual part like http t co fdnxdwh et erdayastronaut cnunezimages spaceintellige mostly for employee but we ll support public access whenever it s http t co y db mkzpu evafoxu cnunezimages spaceintellige absolutely u f u f dd erdayastronaut nextspaceflight i don t want be cavalier but there isn t an obvious limit flight are possi http t co dhapzhixh cnunezimages spaceintellige i ve been working in boca since sunday august heat amp humidity in south texas is int http t co xepds ituw ajtourville comma_ai tesmanian_com dojo v isn t done yet about year away not just about the chip power http t co tsbttiduhj spacecoast_stve scorcher vi http t co o p hi antonioetayo erdayastronaut c_bass d nasaspaceflight felixschlang yes elevator music is underrated erdayastronaut c_bass d nasaspaceflight felixschlang it s counter intuitive but raptor ha so much thrust at h http t co cagyh nnd rt tesla big update in u f e u f e trans canada supercharging u model y delivery u leasing for model y amp model u f af http t co gyfbe nextspaceflight payload reduction due to reusability of booster amp fairing is lt for f amp recovery amp refurb is lt http t co sqgxv yr zubinanary spaceintellige guidodecaso cnunezimages yes it will have huge nut haha teslarati we really need bigger one so adult can squeeze in too guaranteed to make party more fun work well with flamethrower spaceintellige guidodecaso cnunezimages my favorite is one in tension other dof in compression new roadster w http t co ukly dwqur davidgokhshtein yes aloha welcome back from space u f ab http t co xwpn wtaw erdayastronaut yeah will post shortly krystof_mitka biindia winning worst person i ve ever worked with is not easy some real champion are vying for that title fairing chute control amp ship control are closing the loop locally both operating on spacex autopilot m tree catch fairing in her net http t co sqlj netb biindia u f rt spacex falcon s first stage ha landed on the of course i still love you droneship first time booster ha completed six flight valleyhack geoffdbarrett up there somewhere cruising through deep space http t co pcybhfpuad natgeo must be alien spendg yes rgvaerialphotos spacex erdayastronaut this little spit of dirt will take u to mar jwangark human are swiftly becoming small percentage of total compute erdayastronaut programmerdude max demonstrated raptor thrust is ton amp min is ton so they re actually http t co fge giee adamblitzer levie u f justpaulinelol nasaspaceflight that s engine sn we re building sn of the ship nasaspaceflight sn is about to be tested amp ha several upgrade over bar engine for reference bar on r http t co vk nzlr sz raptor engine just reached bar chamber pressure without exploding http t co kvkrwksvab erdayastronaut yeah starship will be tiny dot at km hard to see with naked eye we ll do lot of flight c_bass d erdayastronaut nasaspaceflight felixschlang very impressive render note leg will be bigger amp there http t co up t ow tf ppathole universal_sci this might sting little ppathole the early investor part of tesla is wrong that b ha been pushed by eberhard worst person i ve ever http t co xvuoeig ex universal_sci also there could be long period comet that intersect earth right now we just haven t observed the http t co mezrzcnewo universal_sci pretty much cybertruck option package http t co vz xnohf stevestuwill jagarikin wow booster_buddies nasaspaceflight my button twiddling make no sense at all u f u f flcnhvy nickcappelli grimezsz you got it http t co f rxgcz evafoxu that s great one tank the memery panzer of the lake some big milestone coming up http t co k v yddg j drphiltill africa is big awardsdarwin bold move sir bold move euricsanti luisabinader tesla thank you tesla is most honored cowderysedge tbdnonymous very real possibility billratchet u u fe f wholemarsblog u f u f please trash me on wikipedia i m begging you history is written by the victor except on wikipedia haha nickcappelli grimezsz cover of barbie girl tbdnonymous yes probably more accurate to say great filter plural nickcappelli grimezsz yes it s called cyber girl we must pas the great filter sound right http t co dm fjq hx dr_rami tomdestella robertdowneyjr seriously long_elon crysis rock truly useful exaflop at de facto fp kristennetten engineers_feed metal ha fudge like consistency near it melting point so you can just smoosh it together engineers_feed this is how we make falcon http t co mdopo yb http t co rkueyw flcnhvy icannot_enough tesla this is out of our hand so hard to predict maybe on order of billion km of re http t co fzby pno austinbarnard yes realwillreil giuliocoraggio u f u f hasty govt u f u f teslaownerssv ppathole icannot_enough flcnhvy tesla lot of work remains technically we have it working in http t co wzg taxee ppathole icannot_enough flcnhvy tesla dojo is still being built maybe year or so from v icannot_enough flcnhvy tesla autopilot wa trapped in local maximum labeling single camera image uncorrelate http t co w goo etzh icannot_enough flcnhvy tesla your insight over the year have been excellent that s approximately right giuliocoraggio absolutely but it doesn t seem that govt can move fast enough teslaownerssv ok flcnhvy it will blow ur mind haha http t co lqnken kjn our main engineering location are palo alto austin amp seattle but working remotely is acceptable for exceptional candidate tomdestella i want to do electric vtol supersonic sooo bad but my brain will overload universal_sci asteroid impact risk is well understood but not comet those worry me great mission patch design http t co p ic crpef nikola_truth haha true wholemarsblog alesssj yup flcnhvy teslaownerssv exactly kristennetten teslaownerssv erdayastronaut also definitely coming haha will only be on relatively recent car http t co gbxaxtn vicentes teslaownerssv erdayastronaut sorry this is embarrassingly late two factor authentication via sm or http t co raxdlk jti _bennettm_ erdayastronaut yes we re labeling bump amp pothole so the car can slow down or steer around them when safe to do so teslaownerssv erdayastronaut not perfectly at first but yes will take maybe year or so to get really good at http t co s xzanace erdayastronaut this is what i meant by d http t co xpx j snpy erdayastronaut the fsd improvement will come a quantum leap because it s fundamental architectural rewrite http t co k cb nimiy tesla is developing nn training computer called dojo to process truly vast amount of video data it s beast p http t co aipo gd ek teslarati more software improvement coming cleantechnica significant improvement coming to s x air suspension soon via software update will simultaneously http t co jjunwv j stoolpresidente h o ch co n iron nickel chrome aluminum not necessarily in that order will matter far m http t co iaqicetdoa waitbutwhy lukeprog what are the odds viktaur teslarati the rate of improvement from original gpt to gpt is impressive if this rate of improvement http t co ktppercwt teslarati tesla team is working hard on increasing powerwall production rt jimbridenstine news nasa amp spacex are targeting no earlier than oct for crew dragon s first operational mission to the space_s c_bass d erdayastronaut sn erdayastronaut impressive stoolpresidente psyche http t co zkoi fpvzz erdayastronaut kenkirtland torybruno ulalaunch spacex blueorigin djsnm theprimaldino yes integrated with the tip of the nose teslarati this is important erdayastronaut probably not faster than utility power can be restored powerwall powerpack megapack can certainly http t co znztmbj kenkirtland torybruno ulalaunch spacex blueorigin erdayastronaut djsnm theprimaldino starship fairing wil http t co u wi cgi t pantsbobsponge andyjstanton timfernholz you are correct this is substantial underpayment compared to what ula ha received timfernholz so why is this madness acceptable for boeing lockheed rocket timfernholz nobody would suggest buying airplane that only fly once amp then crash into the ocean that would be absurd tesmanian_com i generally try my best not to be on patent timfernholz efficiently reusable rocket are all that matter for making life multiplanetary amp space power becau http t co alg ue ve wholemarsblog will be amazing to see it in operation biggest casting machine ever made will make rear body in http t co mwzjylhd renarddemoscou billgates sorry to hear this what can we do to help teslarati no surprise teslarati aiming to make it super fun teslarati little toastier each flight flcnhvy same hex tile slightly different mounting method need bigger section of tile to see how they hold up http t co xniptypahf sn will be new alloy test tank taken to burst pressure sn will have body flap amp nosecone sn amp at starship production complex in texas http t co bvrd vdu mark_goldberg_ tesla one day soon i will wear this outfit http t co t snf ugyk mark_goldberg_ tesla i wa trying to channel herb tarlek from wkrp http t co rc s zay mark_goldberg_ tesla note the fabulous plaid jacket amp gingham shirt combo u f archillect twin peak samtalkstesla working on my mom s cousin s farm in saskatchewan at age i think we did barn raising that day wonderofscience http t co y lrlouxr erdayastronaut not sure yet but hopefully will need leg amp other repair probably sn fly before sn we need http t co cgxsnck uv lexfridman clearly rt erdayastronaut spot the tiny human this shot really put it into scale full blown starship and superheavy will be hard to fat ramacvr kristennetten ppathole berniesanders also true kristennetten ppathole berniesanders u f u f ppathole berniesanders over time since we give all employee share my ownership is diluted automatically from http t co aqgi cu hn rt theplanetaryguy video like this will always amaze me astronomer jan koet captured this video in of saturn appearing behind t rationaletienne berniesanders i wonder if he read his twitter feed berniesanders and why aim your attack at tesla when we re doing more than any other company on earth to advance http t co vc isfxioz berniesanders that b wa pushed by oil amp gas interest to distract people from the trillion per year they re http t co ptawt dhhc siconik wr nygov delayslater berniesanders u f af wr nygov berniesanders good analysis he also includes govt loan for high efficiency vehicle that tesla paid b http t co iakln fvpb westcoastbill u f af johnkrausphotos erdayastronaut queue_max nasaspaceflight yeah full name of engine is velociraptor or raptor for short tobyliiiiiiiiii erdayastronaut queue_max nasaspaceflight haha good catch booster will have fixed leg that add m in height erdayastronaut queue_max nasaspaceflight i think we can get veloci raptor t w on par with merlin latter also s http t co dlmy rybrk nasaspaceflight it will look crazy tall with booster amp fairing at m ft renatakonkoly timothybuffett teslarati janeidyeve ok timothybuffett teslarati apart from failing to quarantine elderly at risk people early mistake they recognize they were right teslarati http t co kogvn rmj good piece on giga berlin construction http t co pa sgepv y futurejurvetson spacex this seems increasingly likely rt spacex falcon s first stage ha landed on the of course i still love you droneship http t co szo thmxqa teslarati this is gonna be great sn http t co glz kfvhu rt tesla looking up in model y http t co iafpj zz rt spacex starship take flight http t co iwvwca hl ppathole trevormahlmann arstechnica we ll do several short hop to smooth out launch process then go high altitude with body flap ebelardo bluemoondance trevormahlmann arstechnica soon trevormahlmann arstechnica v leg will be longer v leg will be much wider amp taller like falcon bu http t co cgeweqny s flcnhvy progress is accelerating rt nasaspaceflight launch starship sn ha launched on meter test hop at spacex boca chica under the power of raptor sn sn h sciguyspace exactly austinbarnard mar is looking real trevormahlmann possible flight in min erdayastronaut most likely flcnhvy lindw rm cleantechnica true lindw rm cleantechnica highly likely down the road cleantechnica true fact nasaspaceflight scrubbed for the day raptor turbopump spin start valve didn t open triggering an automatic abo http t co qddlnxfgjg erdayastronaut i m in the boca control room hop attempt in minute rt reallifestarman we are going to go to the moon we are going to have base on the moon we are going to send people to mar and make erdayastronaut spacex for sure engineers_feed tbh i must confess to occasionally pontificating about high concept thing engineers_feed pretty much erdayastronaut nosecone closing is recommended but not required for safe entry when space travel becomes a common a air travel the future of civilization will be assured rt nasa to anybody who ha touched endeavour you should take moment to just cherish this day touching word from astro_doug a waitbutwhy space is the new air rt nasa live an update on today s spacex dragon endeavour splashdown returning astrobehnken amp astro_doug home to earth hear from j rt jimbridenstine update post spacex crew dragon dm splashdown news conference no earlier than pm et watch live http t co qpe congratulation spacex amp nasa on completing first crewed dragon flight u f fa u f f returned rt spacex webcast of crew dragon s return to earth from the space_station with astrobehnken and astro_doug u http t co bjfjlczwdk h rt spacex good splashdown of dragon confirmed welcome back to earth astrobehnken and astro_doug http t co va cck p dragon is stable in the water acquisition of signal expected in min min to dragon loss of signal due to atmospheric entry plasma dragon will travel from south of new zealand to florida in minute coming in hot http t co dzfr bnbff astronaut land in hour nasa spacex rt spacex crew dragon s flight back to earth with astrobehnken and astro_doug remains on track targeting splashdown off the coast of p erdayastronaut spacex however we did prove that superdraco landing could work by doing propulsive hover http t co mr vfiqwwf erdayastronaut spacex all correct parachute were originally the backup landing system with superdraco thruster http t co odu h meier spacex space_station astrobehnken astro_doug great game natalcicuto tesla kristennetten teslaforthe_win working on it rt commercial_crew astro_doug amp astrobehnken will spend one more night in space prior to returning to their homeland earth while a rt nasa the view from inside the spacex dragon endeavour a astrobehnken amp astro_doug monitor their departure from space_station ht rt spacex separation confirmed dragon performing departure burn to move away from the space_station http t co ea fozdo rt spacex crew dragon will depart the space_station with astrobehnken and astro_doug in about hour and splash down off the coast of engineeringvids the simplest solution is not necessarily the most satisfying rt cleantechnica tesla autopilot accident out of mile u average out of mile http t co nnbetmy tr rt tesla tesla q vehicle safety report http t co c no bbwgc u f d u d u u fe f http t co xxvcwmrtws cybrtrck absolutely long lasting art is incredibly difficult this bbc article provides sensible summary for how it wa done http t co le r bwid rt jimbridenstine news team from nasa and spacex remain go with plan to bring astro_doug and astrobehnken home to earth on sunday rt nasa they re coming home u f e u fa on aug astronaut astrobehnken and astro_doug will depart the space_station on spacex s crew dra the great pyramid wa the tallest structure made by human for year three thousand eight hundred year http t co du embni rt commercial_crew nasa and spacex remain go with plan to bring astro_doug and astrobehnken home to earth this weekend team will c waitbutwhy so true ramses ii wa u f e alien built the pyramid obv iearnsomethlng ancient egypt had an incredible esthetic that stand to this day notch u u fe f matfabrix engineers_feed witch logic http t co o xaopsnw matfabrix engineers_feed thing we take for granted like flying would have had you burned at the stake for witchcraft not that long ago engineers_feed engineering is magic made real janeidyeve lo que construimos http t co yg gatgv thesheetztweetz cool http t co lpvwbec r starship sn just completed full duration static fire m hop soon u f u f db u d u u fe f total eclipse of the heart u f db u d u u fe f u f http t co n djdlknbe lnterestingmaps iearnsomethlng u f e bluemoondance ppathole flcnhvy shravantr neuro_skeptic not that i m aware of ppathole flcnhvy shravantr neuro_skeptic yes could also extend range of hearing beyond normal frequency and amplitude deus ex flcnhvy shravantr neuro_skeptic neuralinks are currently meant for mature brain amp functionality is lost if remo http t co c o rravz shravantr neuro_skeptic yes should be possible to create neural shunt from motor cortex to microcontrollers in http t co hppvgjfhms neuro_skeptic will show neuron firing in real time on august th the matrix in the matrix neuro_skeptic they don t fire all at once some go several second to minute without firing some fire several ti http t co ky h oyzyx nasapersevere ulalaunch nasa_lsp congrats on great launch but sometimes when we touch http t co kmassjctix jelle anvithvittal dnpthree tiesto adagio for string is great http t co rgy p vgou losing it http t co hoy ldzg eurosandor rsprachrohr u f u f renatakonkoly sneakyness mein herz brennt best bos battle song ever http t co jil vzhqax flcnhvy robot heart is u f u f sneakyness one of the all time best tobyliiiiiiiiii sure sure could use good rave what s your favorite techno i i just died in your arm tonight the rumor that bill gate amp i are lover is completely untrue wholemarsblog ppathole yeah display will also soon render tesla specifically a their model amp color instead of http t co lpnpltp keith ppathole http t co s mdwgcdfg keith ppathole we ve been working on this for about year originally meant for rabies vaccine but it http t co fsf xhiii keith ppathole http t co kaav dtnn ppathole u f b billy g is not my lover u f b ppathole sound like he doesn t realize tesla make the vaccine machine for curevac mkarolian tesla thanks for letting me know will dig into it greendragonbot u f thesheetztweetz sum gt part teslarati should add few mile of range more in slow traffic kristennetten xiang_aw owensparks_ berniesanders the government ha the most money by far they talk in trillion jgrano teslaownersnbay haha no one can ever have our top secret fart technology teslaownersnbay u f u f sam_lopezxx teslarati sure teslarati tesla is open to licensing software and supplying powertrains amp battery we re just trying to accelera http t co t vgklwda xiang_aw owensparks_ berniesanders what he doesn t appear to appreciate is that government is just monopolist corporation in the limit slashdot techgnostik schristakos berniesanders agreed evafoxu schristakos berniesanders haha dmc_ryan rodamn it s prototype of the color schristakos berniesanders and to think i used to like bernie u f http t co adojs uce vistacruiser schristakos berniesanders berniesanders u f u f schristakos berniesanders maybe he s feeling the bern haha nasaspaceflight fuel spin valve didn t open will fix amp try again tomorrow also some odd tvc hydraulic pump behavior nasaspaceflight i wa just out at the launch pad connector damaged in the storm but fixed now might be able to http t co fb e noq e prisonplanet whether commercial or government monopoly are bad for the people teslarati sound great enn_nafnlaus theonion haha da kapital in nutshell http t co mg mmkitx anthm what i like most is their great sense of humor the left is losing the middle rationaletienne theonion exactly rationaletienne atnickvega theonion u f u f hold my beer http t co ik tt x wp theonion once an onion now rose atnickvega theonion wow you think about me lot youranonnews you dropped this youranonnews u f evafoxu haha rt teslacn pick up the energetic wallpaper and charge your everyday adventure http t co hotdtlpdpw cleantechnica giga berlin will come together at an impossible seeming speed the prefabricated construction method http t co x drfewial almost decade ago original dragon in background ppathole rhiddhid ya just can t beat br http t co ufay lzjj avrwc planet claire is u f u f cybrtrck fair point will discus with team rhiddhid he wa amazing great song http t co wj ydjglsh spotted_model cleantechnica nickel is the biggest challenge for high volume long range battery australia amp ca http t co kq cqogfl picklepunchd cleantechnica u f u f samtalkstesla that s me haha cleantechnica this ha lot of potential lithium is pretty much everywhere teslarati whoa cool theonion u f u f kristennetten yourfavgas ajtourville ha to be blue steel mattiecola ajtourville we need high brinell hardness amp high corrosion resistance because of cybertruck s faceted http t co dnkkgadjq flcnhvy yourfavgas ajtourville i really want to do this will be great fun could be both la and austin yourfavgas ajtourville turning them into shade for an outdoor restaurant here in boca ajtourville cool flcnhvy ghost_teslaphx delayslater crewtesla jrosinski marc_benton ray tesla yes ghost_teslaphx delayslater crewtesla jrosinski marc_benton ray tesla not impossible wholemarsblog those were the day u f u f rt ccsakuras http t co emkzcfgarz rt mkbhd new video why tesla model y is their most important car [auto focus ep ] http t co lc l rgcj http t co l zaxyctr teslaownerssv ppathole maureendowd ring of fire http t co gsj np cap iliketeslas pjhornak randyvegetables i know congratulation to the people of bolivia u f e u f f ppathole maureendowd the song i whistle most is stranger in the night randyvegetables some of whom seriously think tesla toppled the bolivian govt sigh http t co yc gaa dw maureendowd great song karaswisher maureendowd elon haha thanks kara erikmaza maureendowd for sure thefavoritist nasaspaceflight bocachicagal yeah we re hunkering down here until the hurricane pass adolfo_morenos historyofarmani exactly cool model review by iamjamiefoxx http t co hjdd bjke teslacn tesla will add power lift gate at no cost hansnoordsij agreed hydrogen fool sell make no sense pronoun suck historyofarmani also we get our lithium from australia nichegamer u f u f akinfermo yeah would have been way better just to send everyone k i bet no one on u f twitter even ha guillotine poseur engineers_feed [slow drag on cigarette facebook haven t heard that name in year u f twitter suck stevenbonchev apompliano something like that if politician could legislate wealth everyone would be trillionaire these are jammed to gill with special interest earmark if we do stimulus at all it should just be direct payment to consumer ppathole pretty much goal of government should be to maximize the happiness of the people giving each person money allows them to decid http t co lwfxhvksjf a reminder i m in favor of universal basic income another government stimulus package is not in the best interest of the people imo tesla solar panel are watt http t co lplhqgazw realdonaldtrump tesla thank you on behalf of the tesla team we look forward to building giga texas sciguyspace competition ensures company work hard to serve the need of their customer schristakos pubg something fun is coming vincent universalpics tomcruise spacex could be great teslaownerssv cleantechnica that s great idea tesla we are actually looking for revolutionary actuary for tesla insurance please inquire if interested cleantechnica tbh we are just bit le foolish than before rt commercial_crew while in orbit astronaut astrobehnken and astro_doug performed habitability assessment of the spacex crew drago teslarati retail investor like hyperchangetv are remarkably insightful also arkinvest sciguyspace especially for boost stage which is volumetrically constrained ch is way better than h soviet ch http t co alewbz nfl waitbutwhy basically our pixel size ludalisl tesla can t emphasize this enough tomosman tesla absolutely ajtourville haha cleantechnica agreed internetofshit my oven keep asking for my wifi password it s not gonna get it impressive tianwen mar rover mission launched by china today http t co fsya i hru rt tesla http t co jmkacbrb d bbc_future good article bbcsciencenews similar problem with u data omgrofloljk good point you don t have soul you are soul cleantechnica adding people in next version minute later http t co o fbbtan s nytimes just another day in erdayastronaut flcnhvy individualized mass transit is the future flcnhvy no best to have people seated for safety amp speed of travel coming soon http t co noglix b wholemarsblog human overseen at first then fully self driving janeidyeve can t say but it involves u f b kable_ u f u f ppathole u f buckethat this one sting where are the meme send in the meme teslatrey we need to finish upgrading autopilot to d v d then it will go up very steep slope nothing ha gaslit more people than the movie gaslight loomisp_ msnbc thhour well said brian williams futurejurvetson great shot rt spacex video of yesterday s catch of both fairing half http t co yztdfzlull fazeblaze u f d samtalkstesla sometimes that s how i feel too ppathole teslarati bocachicagal will attempt to fly later this week sri_myneni erdayastronaut considercosmos spacex sound amp flame color will be quite different glenn x teslarati bocachicagal yes teslarati bocachicagal we re rapidly changing alloy constituent amp forming method so traditional name like http t co fyuuio dtz flcnhvy u f u f cleantechnica at some point we should probably do advertising a art communication entertainment amp to support high quality medium rt spacex watch falcon launch anasis ii u http t co bjfjlczwdk http t co iyhjznzobv da baby kann noch keinen l ffel benutzen http t co uetqvia bp johnnacrider ystijd id_aa_carmack it s almost right ystijd id_aa_carmack we talked about an hour ago he seems fine id_aa_carmack vr twitter with avatar saying the mention u f cleantechnica better to put the money into the product than sale amp marketing ppathole we should bring life to mar both fairing half caught from space by spacex ship rt spacex falcon s first stage ha landed on the just read the instruction droneship http t co fpbckyfysh spacex nice work spacex team flcnhvy astrobehnken astro_doug spacex still long way to go reuse only matter to degree that it s rapid amp complete nasahqphoto too long since we were last there launch in min http t co oltpnw wholemarsblog cleantechnica in few month in production release already doe that in alpha build cleantechnica lithium is extremely common on earth found almost everywhere nishy hiromichimizuno congratulation mhi amp uae bar _t joebangles teslarati stilton kristennetten businessinsider new deep crimson from giga berlin is my favorite teslarati important to service very high latitude confiant_man american but born in south africa left by myself when i wa businessinsider true the model s is still great car wa driving sn few month ago and driving feel wa http t co mrutle y v rt businessinsider tesla s model received top mark from safety organization in north america europe and australia http t co nb teslaownerssv stephenpallotta will discus on wed earnings call lot to talk about stephenpallotta u f u f a_howard yes hiromichimizuno this look cool ppathole it ha that potential maxxrpbtc thecryptolark manny manny jungleincxrp digitalassetbuy moonlamboio jwilliamsfstmed good article i http t co anite dlj teslaownerssv waitbutwhy it s not really set up for tour but maybe it should astrobehnken spacex nasa space_station manufactured only min from lax waitbutwhy some contribute more y chromosome amp mitochondrion are constant except for mutation bwillofficial wholemarsblog neuralink yes kristennetten that is just one part of the surgery for this to scale it must be fully automated like lasik this would solve lot of brain spine injury amp is ultimately essential for ai symbiosis fermatslibrary fermi wa awesome he understood the right question to ask rt archillect http t co vr thokncp m ttwegner flcnhvy u f u f m ttwegner flcnhvy bde m ttwegner flcnhvy how come hulk never loses pant flcnhvy yes ppathole no prior neuroscience background is required this is primarily an electrical electronic chip design me http t co vmq atdv d rt spacex targeting monday july for falcon launch of anasis ii from slc solving high volume high reliability low cost production problem is especially valued if you ve solved hard problem with phone wearable sealing signal processing inductive charging power mgmt http t co rq awmzxvo serhatserhatst many ppathole summarizes pretty much every biz school case study it s inevitable http t co ebknqm qyf izzynobre excuse me i only sell doge will those who write the algorithm ever realize their negativity bias modelyendofice wintonark pretty much wintonark we better hustle with neuralink not moving fast enough thanks just stop evafoxu u f u f ppathole kristennetten u f u f lewismartin_ engineers_feed gigafactory is the product even more than the car zikryzamir yes engineers_feed carefully hidden teslaownerssv kristennetten sure kristennetten might be an indoor outdoor rave space on the roof giga berlin http t co uxqmuvtwxf pontolemaeus silverdegeneral bbcsciencenews exactly this is serious problem ratio of retiree to worker is http t co qivas gtpc vincentdiong gerberkawasaki considering flcnhvy spacex small note latch on post near base is gone amp powered ethernet wire is le obtrusive in production version bbcsciencenews http t co xxrxfrqhbs ppathole bbcsciencenews this thing we call money is just slow lossy amp unsecure database for labor allocati http t co vcgj o r nnalinas bbcsciencenews trying to set good example haha mar need people gerberkawasaki great work by tesla software engineering bbcsciencenews population collapse is nd biggest danger to civilization after ai imo erdayastronaut flcnhvy spacex yeah will take le than minute to order on http t co q vvqvmj i when it go live flcnhvy spacex starlink terminal ha motor to self orient for optimal view angle no expert installer required http t co xndtxrdnl niksanae ok alex_avoigt wholemarsblog u f erdayastronaut thesheetztweetz brycespacetech spacex ulalaunch torybruno mhi_group roscosmos peter_j_beck http t co irmxfy y teslaaircraft flcnhvy tesla exactly wholemarsblog tesla autopilot wa literally named after the term used in aviation also what about autobahn teslaownerssv engineers_feed the strength amp perseverance of the people of tesla despite facing extreme difficulty engineers_feed playable on any tesla efficiencylast jaminwestby teslaownerssv jgrano teslaratiteam teslarati should do this automatically thesheetztweetz brycespacetech spacex ulalaunch torybruno mhi_group roscosmos mass to orbit is more accura http t co ltqh vulgc teslarati cute davidtayar teslalisa stevehamel vincent s_padival barkmsmeagol annerajb pjhornak wpipperger ecoheliguy wow katlinegrey reusability is essential rocket that is single use is just a absurd a single use airplane f e http t co wfnfst c y vincent wild time spaceflightnow we re being extra paranoid maximizing probability of successful launch is paramount summergamefest welcome anytime bradyleonard well i do care very much about sustainability of civilization but there is some truth to the irony part haha teslatn jgrano teslaratiteam teslarati dollyparton yes in plan supercharger and public high power wall c http t co jzxsr h v chrisjcav jgrano teslaratiteam teslarati u f jaminwestby teslaownerssv jgrano teslaratiteam teslarati i think so jgrano teslaratiteam teslarati doing range testing now number will be significantly higher than extreme http t co f pmcioic jgrano teslaratiteam teslarati we have reduced pricing on model y lr dual motor amp will offer lr single moto http t co fbhkiihsc teslaownerssv jgrano teslaratiteam teslarati yes vicentes teslaratiteam teslarati it may be able to reach kw at low state of charge jgrano teslaratiteam teslarati no a range would be unacceptably low lt mile epa teslaratiteam teslarati we had to increase some wire thickness in s x to reduce resistive heating technically http t co tcivzvc ra mightytesla samtalkstesla elonsworld nikola_truth wholemarsblog renatakonkoly stevenmarkryan http t co iu lmuqes wholemarsblog thanks ppathole that is the near term danger of ai nichegamer i didn t mind da da wa awesome mass effect talking about sequel is amazing mkbhd haha oprahside maybe he should design flag of mar engineers_feed f http t co mqxfakpzf i spoke with korolev s family today he wa one of the very best u u e u u e u b u c u e u u u e u u e u b u u ali_afshari in general we need to improve how podcasts play optimoprincipi spqr http t co gvfc m bhz djzinc kenyanwalstreet true haha rationaletienne flcnhvy ppathole ihearttesla death is the loss of information thatt slaguy flcnhvy ppathole ihearttesla earning power post augmentation would easily pay for itself if that http t co bpzwersoys flcnhvy ppathole ihearttesla absolutely teslaparatodos evafoxu tesla u f mjkapkan evafoxu tesla probably good one to design amp engineer in germany blue_bnd evafoxu tesla even more techgnostik evafoxu tesla ok scr chy evafoxu tesla u f evafoxu tesla berlin model y is the one to watch that is revolution in automotive body engineering finally burakaydik true wow ihop amp github are close best use of the term full stack ppathole ihearttesla for sure this is both great amp terrifying everything we ve ever sensed or thought ha been http t co b zxd qd redmercy yes buzzindelhi sorry should hopefully be soon kenyanwalstreet not actually payout just vesting of stock option it may never pay out a the stock can t b http t co zg stxt ihearttesla no easy way to answer this in tweet but helping with dire brain injury is our first priority detail aug ai symbiosis while u wait vistacruiser flcnhvy there s some of that too flcnhvy true it sound so surreal but the negative propaganda is still all out there amp easy to find in social me http t co wjrzibkh h ppathole make sure to read ur term amp condition before clicking accept teslagong ppathole samwise gamgee ppathole altho dumb and dumber is u f u f progress update august'"
            ]
          },
          "metadata": {},
          "execution_count": 65
        }
      ]
    },
    {
      "cell_type": "code",
      "metadata": {
        "id": "R_hJ7GqSyA_9"
      },
      "source": [
        "#Model Building - Vectorization and I/p and O/p\n",
        "from sklearn.feature_extraction.text import CountVectorizer,TfidfVectorizer    \n",
        "cv = CountVectorizer(max_features=2500)"
      ],
      "execution_count": 66,
      "outputs": []
    },
    {
      "cell_type": "code",
      "metadata": {
        "colab": {
          "base_uri": "https://localhost:8080/"
        },
        "id": "21wnXfFfbM0L",
        "outputId": "1d9dddc1-56b6-4fdf-b002-a34ff3c36d28"
      },
      "source": [
        "\n",
        "X = cv.fit_transform(corpus).toarray()\n",
        "X"
      ],
      "execution_count": 67,
      "outputs": [
        {
          "output_type": "execute_result",
          "data": {
            "text/plain": [
              "array([[0, 0, 0, ..., 0, 0, 0],\n",
              "       [0, 0, 0, ..., 0, 0, 0],\n",
              "       [0, 0, 0, ..., 0, 0, 0],\n",
              "       ...,\n",
              "       [0, 0, 0, ..., 0, 0, 0],\n",
              "       [0, 0, 0, ..., 0, 0, 0],\n",
              "       [0, 0, 0, ..., 0, 0, 0]])"
            ]
          },
          "metadata": {},
          "execution_count": 67
        }
      ]
    },
    {
      "cell_type": "code",
      "metadata": {
        "colab": {
          "base_uri": "https://localhost:8080/"
        },
        "id": "vk16FU6sbjgh",
        "outputId": "7fd147a4-4846-40d4-d50f-406a5e545d47"
      },
      "source": [
        "positive=pd.read_csv('/content/drive/MyDrive/google colab/positive-words.txt')\n",
        "positive.to_numpy()"
      ],
      "execution_count": 68,
      "outputs": [
        {
          "output_type": "execute_result",
          "data": {
            "text/plain": [
              "array([['abound'],\n",
              "       ['abounds'],\n",
              "       ['abundance'],\n",
              "       ...,\n",
              "       ['zenith'],\n",
              "       ['zest'],\n",
              "       ['zippy']], dtype=object)"
            ]
          },
          "metadata": {},
          "execution_count": 68
        }
      ]
    },
    {
      "cell_type": "code",
      "metadata": {
        "colab": {
          "base_uri": "https://localhost:8080/"
        },
        "id": "MituygNInMt1",
        "outputId": "0167f5ad-03a9-4159-ba28-0e9ffdd0ee25"
      },
      "source": [
        "negtive=pd.read_csv(\"/content/drive/MyDrive/google colab/negative-words.txt\")\n",
        "negtive.to_numpy()"
      ],
      "execution_count": 69,
      "outputs": [
        {
          "output_type": "execute_result",
          "data": {
            "text/plain": [
              "array([['2-faces'],\n",
              "       ['abnormal'],\n",
              "       ['abolish'],\n",
              "       ...,\n",
              "       ['zealous'],\n",
              "       ['zealously'],\n",
              "       ['zombie']], dtype=object)"
            ]
          },
          "metadata": {},
          "execution_count": 69
        }
      ]
    },
    {
      "cell_type": "code",
      "metadata": {
        "colab": {
          "base_uri": "https://localhost:8080/"
        },
        "id": "plgODuttiqd6",
        "outputId": "bcab77b2-590a-4b5e-ee05-b1de0ae49839"
      },
      "source": [
        "from google.colab import drive\n",
        "drive.mount('/content/drive')"
      ],
      "execution_count": 70,
      "outputs": [
        {
          "output_type": "stream",
          "name": "stdout",
          "text": [
            "Drive already mounted at /content/drive; to attempt to forcibly remount, call drive.mount(\"/content/drive\", force_remount=True).\n"
          ]
        }
      ]
    },
    {
      "cell_type": "code",
      "metadata": {
        "id": "D7x3jS8ebjxm"
      },
      "source": [
        "def sentiment_analyse():\n",
        "\n",
        "   from textblob import TextBlob\n",
        "   edu=TextBlob(listTOstring)\n",
        "   x=edu.sentiment.polarity\n",
        "   #for x in positive:\n",
        "   #if i>0:\n",
        "         # print('positive')\n",
        "  # for x in negtive:\n",
        "  # elif i<0:\n",
        "        #  print('negative') \n",
        "           \n"
      ],
      "execution_count": 71,
      "outputs": []
    },
    {
      "cell_type": "code",
      "metadata": {
        "id": "q_VGCTILMg2z"
      },
      "source": [
        "data['corpus']=corpus\n",
        "#data['sentiment_analyse']=data.corpus.apply(func=lambda positive:1 if corpus[i]==positive else 0)\n",
        "data['sentiment_analyse']=data.corpus.apply(func=lambda positive:1 if positive in corpus else 0)\n",
        "\n",
        "\n"
      ],
      "execution_count": 94,
      "outputs": []
    },
    {
      "cell_type": "code",
      "metadata": {
        "colab": {
          "base_uri": "https://localhost:8080/",
          "height": 423
        },
        "id": "-pelf9IdOC7a",
        "outputId": "cb104455-c6e3-42b6-cb77-fccc5017d031"
      },
      "source": [
        "data"
      ],
      "execution_count": 95,
      "outputs": [
        {
          "output_type": "execute_result",
          "data": {
            "text/html": [
              "<div>\n",
              "<style scoped>\n",
              "    .dataframe tbody tr th:only-of-type {\n",
              "        vertical-align: middle;\n",
              "    }\n",
              "\n",
              "    .dataframe tbody tr th {\n",
              "        vertical-align: top;\n",
              "    }\n",
              "\n",
              "    .dataframe thead th {\n",
              "        text-align: right;\n",
              "    }\n",
              "</style>\n",
              "<table border=\"1\" class=\"dataframe\">\n",
              "  <thead>\n",
              "    <tr style=\"text-align: right;\">\n",
              "      <th></th>\n",
              "      <th>Unnamed: 0</th>\n",
              "      <th>Text</th>\n",
              "      <th>corpus</th>\n",
              "      <th>sentiment_analyse</th>\n",
              "    </tr>\n",
              "  </thead>\n",
              "  <tbody>\n",
              "    <tr>\n",
              "      <th>0</th>\n",
              "      <td>1</td>\n",
              "      <td>@kunalb11 I’m an alien</td>\n",
              "      <td>kunalb i m an alien</td>\n",
              "      <td>1</td>\n",
              "    </tr>\n",
              "    <tr>\n",
              "      <th>1</th>\n",
              "      <td>2</td>\n",
              "      <td>@ID_AA_Carmack Ray tracing on Cyberpunk with H...</td>\n",
              "      <td>id_aa_carmack ray tracing on cyberpunk with hd...</td>\n",
              "      <td>1</td>\n",
              "    </tr>\n",
              "    <tr>\n",
              "      <th>2</th>\n",
              "      <td>3</td>\n",
              "      <td>@joerogan @Spotify Great interview!</td>\n",
              "      <td>joerogan spotify great interview</td>\n",
              "      <td>1</td>\n",
              "    </tr>\n",
              "    <tr>\n",
              "      <th>3</th>\n",
              "      <td>4</td>\n",
              "      <td>@gtera27 Doge is underestimated</td>\n",
              "      <td>gtera doge is underestimated</td>\n",
              "      <td>1</td>\n",
              "    </tr>\n",
              "    <tr>\n",
              "      <th>4</th>\n",
              "      <td>5</td>\n",
              "      <td>@teslacn Congratulations Tesla China for amazi...</td>\n",
              "      <td>teslacn congratulation tesla china for amazing...</td>\n",
              "      <td>1</td>\n",
              "    </tr>\n",
              "    <tr>\n",
              "      <th>...</th>\n",
              "      <td>...</td>\n",
              "      <td>...</td>\n",
              "      <td>...</td>\n",
              "      <td>...</td>\n",
              "    </tr>\n",
              "    <tr>\n",
              "      <th>1994</th>\n",
              "      <td>1995</td>\n",
              "      <td>@flcnhvy True, it sounds so surreal, but the n...</td>\n",
              "      <td>flcnhvy true it sound so surreal but the negat...</td>\n",
              "      <td>1</td>\n",
              "    </tr>\n",
              "    <tr>\n",
              "      <th>1995</th>\n",
              "      <td>1996</td>\n",
              "      <td>@PPathole Make sure to read ur terms &amp;amp; con...</td>\n",
              "      <td>ppathole make sure to read ur term amp conditi...</td>\n",
              "      <td>1</td>\n",
              "    </tr>\n",
              "    <tr>\n",
              "      <th>1996</th>\n",
              "      <td>1997</td>\n",
              "      <td>@TeslaGong @PPathole Samwise Gamgee</td>\n",
              "      <td>teslagong ppathole samwise gamgee</td>\n",
              "      <td>1</td>\n",
              "    </tr>\n",
              "    <tr>\n",
              "      <th>1997</th>\n",
              "      <td>1998</td>\n",
              "      <td>@PPathole Altho Dumb and Dumber is &lt;U+0001F525...</td>\n",
              "      <td>ppathole altho dumb and dumber is u f u f</td>\n",
              "      <td>1</td>\n",
              "    </tr>\n",
              "    <tr>\n",
              "      <th>1998</th>\n",
              "      <td>1999</td>\n",
              "      <td>Progress update August 28</td>\n",
              "      <td>progress update august</td>\n",
              "      <td>1</td>\n",
              "    </tr>\n",
              "  </tbody>\n",
              "</table>\n",
              "<p>1999 rows × 4 columns</p>\n",
              "</div>"
            ],
            "text/plain": [
              "      Unnamed: 0  ... sentiment_analyse\n",
              "0              1  ...                 1\n",
              "1              2  ...                 1\n",
              "2              3  ...                 1\n",
              "3              4  ...                 1\n",
              "4              5  ...                 1\n",
              "...          ...  ...               ...\n",
              "1994        1995  ...                 1\n",
              "1995        1996  ...                 1\n",
              "1996        1997  ...                 1\n",
              "1997        1998  ...                 1\n",
              "1998        1999  ...                 1\n",
              "\n",
              "[1999 rows x 4 columns]"
            ]
          },
          "metadata": {},
          "execution_count": 95
        }
      ]
    },
    {
      "cell_type": "code",
      "metadata": {
        "id": "_sMjtdBRbkvf"
      },
      "source": [
        ""
      ],
      "execution_count": null,
      "outputs": []
    },
    {
      "cell_type": "code",
      "metadata": {
        "id": "hxdZu1jHrbi2"
      },
      "source": [
        "\n",
        "y=data['sentiment_analyse']\n",
        "from sklearn.model_selection import train_test_split\n",
        "X_train,X_test,y_train,y_test = train_test_split(X,y,test_size=0.20,random_state=12)\n"
      ],
      "execution_count": 40,
      "outputs": []
    },
    {
      "cell_type": "code",
      "metadata": {
        "colab": {
          "base_uri": "https://localhost:8080/"
        },
        "id": "3eTKM8eIu1cc",
        "outputId": "576ff64e-e00b-4159-d858-0534e15f6f57"
      },
      "source": [
        "#Model Training\n",
        "from sklearn.naive_bayes import MultinomialNB\n",
        "nb_classifier =MultinomialNB()\n",
        "nb_classifier.fit(X_train,y_train)    \n",
        "    "
      ],
      "execution_count": 41,
      "outputs": [
        {
          "output_type": "execute_result",
          "data": {
            "text/plain": [
              "MultinomialNB()"
            ]
          },
          "metadata": {},
          "execution_count": 41
        }
      ]
    },
    {
      "cell_type": "code",
      "metadata": {
        "id": "L4YpE7b2u1tO"
      },
      "source": [
        "    \n",
        "#Model Testing\n",
        "y_pred = nb_classifier.predict(X_test)\n",
        "    "
      ],
      "execution_count": 47,
      "outputs": []
    },
    {
      "cell_type": "code",
      "metadata": {
        "id": "G9LHzCOHu2vZ"
      },
      "source": [
        "#Model Evaluation\n",
        "from sklearn.metrics import accuracy_score,confusion_matrix,precision_score\n",
        "accuracy      = accuracy_score(y_test, y_pred)   \n",
        "precision     = precision_score(y_test,y_pred,average='micro') \n",
        "confus_matrix = confusion_matrix(y_test, y_pred,labels=[1,0])\n",
        "\n",
        "    "
      ],
      "execution_count": 79,
      "outputs": []
    },
    {
      "cell_type": "code",
      "metadata": {
        "colab": {
          "base_uri": "https://localhost:8080/"
        },
        "id": "0yGBSap_xqsz",
        "outputId": "419a11d2-7ce9-44f9-d4de-e2270d7c93fa"
      },
      "source": [
        "print(accuracy)"
      ],
      "execution_count": 49,
      "outputs": [
        {
          "output_type": "stream",
          "name": "stdout",
          "text": [
            "1.0\n"
          ]
        }
      ]
    },
    {
      "cell_type": "code",
      "metadata": {
        "colab": {
          "base_uri": "https://localhost:8080/"
        },
        "id": "GEdXu1yIxrAD",
        "outputId": "ff00b128-41a4-4aaf-fca1-da2823c1a514"
      },
      "source": [
        "print(precision)"
      ],
      "execution_count": 50,
      "outputs": [
        {
          "output_type": "stream",
          "name": "stdout",
          "text": [
            "1.0\n"
          ]
        }
      ]
    },
    {
      "cell_type": "code",
      "metadata": {
        "colab": {
          "base_uri": "https://localhost:8080/"
        },
        "id": "IyN3krkVxrog",
        "outputId": "24eb4e69-02ed-43b1-80c0-41f80311b4a8"
      },
      "source": [
        "from sklearn.ensemble import RandomForestClassifier\n",
        "rf=RandomForestClassifier(n_estimators=100,max_depth=5)\n",
        "rf.fit(X_train,y_train)"
      ],
      "execution_count": 52,
      "outputs": [
        {
          "output_type": "execute_result",
          "data": {
            "text/plain": [
              "RandomForestClassifier(max_depth=5)"
            ]
          },
          "metadata": {},
          "execution_count": 52
        }
      ]
    },
    {
      "cell_type": "code",
      "metadata": {
        "id": "p_kMIhPX1F9C"
      },
      "source": [
        "#Model Evaluation\n",
        "from sklearn.metrics import accuracy_score,confusion_matrix,precision_score\n",
        "accuracy      = accuracy_score(y_test, y_pred)   \n",
        "precision     = precision_score(y_test,y_pred,average='micro') \n",
        "confus_matrix = confusion_matrix(y_test, y_pred)\n",
        "\n",
        "    "
      ],
      "execution_count": 53,
      "outputs": []
    },
    {
      "cell_type": "code",
      "metadata": {
        "colab": {
          "base_uri": "https://localhost:8080/"
        },
        "id": "atUBhlLh1Jes",
        "outputId": "629c4aa1-7374-4a98-b6ac-5bc5dfa45292"
      },
      "source": [
        "print(accuracy)"
      ],
      "execution_count": 54,
      "outputs": [
        {
          "output_type": "stream",
          "name": "stdout",
          "text": [
            "1.0\n"
          ]
        }
      ]
    },
    {
      "cell_type": "code",
      "metadata": {
        "id": "3foluujx9bEt"
      },
      "source": [
        ""
      ],
      "execution_count": null,
      "outputs": []
    }
  ]
}